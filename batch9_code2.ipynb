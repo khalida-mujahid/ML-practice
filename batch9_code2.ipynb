{
  "nbformat": 4,
  "nbformat_minor": 0,
  "metadata": {
    "colab": {
      "name": "batch9_code2.ipynb",
      "version": "0.3.2",
      "provenance": [],
      "include_colab_link": true
    },
    "kernelspec": {
      "name": "python3",
      "display_name": "Python 3"
    }
  },
  "cells": [
    {
      "cell_type": "markdown",
      "metadata": {
        "id": "view-in-github",
        "colab_type": "text"
      },
      "source": [
        "<a href=\"https://colab.research.google.com/github/khalida-mujahid/ML-practice/blob/master/batch9_code2.ipynb\" target=\"_parent\"><img src=\"https://colab.research.google.com/assets/colab-badge.svg\" alt=\"Open In Colab\"/></a>"
      ]
    },
    {
      "cell_type": "markdown",
      "metadata": {
        "id": "B24bjrb3EQzp",
        "colab_type": "text"
      },
      "source": [
        "# Machine Learning Pipeline"
      ]
    },
    {
      "cell_type": "markdown",
      "metadata": {
        "id": "l1kjb9nZEV1o",
        "colab_type": "text"
      },
      "source": [
        "![alt text](https://www.sqlrelease.com/wp-content/uploads/2018/12/Building-first-Machine-Learning-model-using-Logistic-Regression-in-Python-Step-by-Step-ML-process-workflow.png)"
      ]
    },
    {
      "cell_type": "markdown",
      "metadata": {
        "id": "fvRpggLOFLT2",
        "colab_type": "text"
      },
      "source": [
        "![alt text](data:image/png;base64,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)"
      ]
    },
    {
      "cell_type": "markdown",
      "metadata": {
        "id": "_vPTZhmzFsWK",
        "colab_type": "text"
      },
      "source": [
        "# Data Exploration"
      ]
    },
    {
      "cell_type": "code",
      "metadata": {
        "id": "lkz1qBniYV7Q",
        "colab_type": "code",
        "colab": {}
      },
      "source": [
        "from sklearn.datasets import load_iris\n",
        "import matplotlib.pyplot as plt\n",
        "import pandas as pd"
      ],
      "execution_count": 0,
      "outputs": []
    },
    {
      "cell_type": "code",
      "metadata": {
        "id": "K4fiDjFEY2zl",
        "colab_type": "code",
        "outputId": "fe6618e4-2781-4913-8a6c-0388b599947c",
        "colab": {
          "base_uri": "https://localhost:8080/"
        }
      },
      "source": [
        "data = load_iris()\n",
        "type(data)"
      ],
      "execution_count": 0,
      "outputs": [
        {
          "output_type": "execute_result",
          "data": {
            "text/plain": [
              "sklearn.utils.Bunch"
            ]
          },
          "metadata": {
            "tags": []
          },
          "execution_count": 44
        }
      ]
    },
    {
      "cell_type": "code",
      "metadata": {
        "id": "qGP6G60aZE93",
        "colab_type": "code",
        "outputId": "9f3e05eb-b8ca-49a7-f72f-a635117a6e06",
        "colab": {
          "base_uri": "https://localhost:8080/"
        }
      },
      "source": [
        "print(data.DESCR)"
      ],
      "execution_count": 0,
      "outputs": [
        {
          "output_type": "stream",
          "text": [
            ".. _iris_dataset:\n",
            "\n",
            "Iris plants dataset\n",
            "--------------------\n",
            "\n",
            "**Data Set Characteristics:**\n",
            "\n",
            "    :Number of Instances: 150 (50 in each of three classes)\n",
            "    :Number of Attributes: 4 numeric, predictive attributes and the class\n",
            "    :Attribute Information:\n",
            "        - sepal length in cm\n",
            "        - sepal width in cm\n",
            "        - petal length in cm\n",
            "        - petal width in cm\n",
            "        - class:\n",
            "                - Iris-Setosa\n",
            "                - Iris-Versicolour\n",
            "                - Iris-Virginica\n",
            "                \n",
            "    :Summary Statistics:\n",
            "\n",
            "    ============== ==== ==== ======= ===== ====================\n",
            "                    Min  Max   Mean    SD   Class Correlation\n",
            "    ============== ==== ==== ======= ===== ====================\n",
            "    sepal length:   4.3  7.9   5.84   0.83    0.7826\n",
            "    sepal width:    2.0  4.4   3.05   0.43   -0.4194\n",
            "    petal length:   1.0  6.9   3.76   1.76    0.9490  (high!)\n",
            "    petal width:    0.1  2.5   1.20   0.76    0.9565  (high!)\n",
            "    ============== ==== ==== ======= ===== ====================\n",
            "\n",
            "    :Missing Attribute Values: None\n",
            "    :Class Distribution: 33.3% for each of 3 classes.\n",
            "    :Creator: R.A. Fisher\n",
            "    :Donor: Michael Marshall (MARSHALL%PLU@io.arc.nasa.gov)\n",
            "    :Date: July, 1988\n",
            "\n",
            "The famous Iris database, first used by Sir R.A. Fisher. The dataset is taken\n",
            "from Fisher's paper. Note that it's the same as in R, but not as in the UCI\n",
            "Machine Learning Repository, which has two wrong data points.\n",
            "\n",
            "This is perhaps the best known database to be found in the\n",
            "pattern recognition literature.  Fisher's paper is a classic in the field and\n",
            "is referenced frequently to this day.  (See Duda & Hart, for example.)  The\n",
            "data set contains 3 classes of 50 instances each, where each class refers to a\n",
            "type of iris plant.  One class is linearly separable from the other 2; the\n",
            "latter are NOT linearly separable from each other.\n",
            "\n",
            ".. topic:: References\n",
            "\n",
            "   - Fisher, R.A. \"The use of multiple measurements in taxonomic problems\"\n",
            "     Annual Eugenics, 7, Part II, 179-188 (1936); also in \"Contributions to\n",
            "     Mathematical Statistics\" (John Wiley, NY, 1950).\n",
            "   - Duda, R.O., & Hart, P.E. (1973) Pattern Classification and Scene Analysis.\n",
            "     (Q327.D83) John Wiley & Sons.  ISBN 0-471-22361-1.  See page 218.\n",
            "   - Dasarathy, B.V. (1980) \"Nosing Around the Neighborhood: A New System\n",
            "     Structure and Classification Rule for Recognition in Partially Exposed\n",
            "     Environments\".  IEEE Transactions on Pattern Analysis and Machine\n",
            "     Intelligence, Vol. PAMI-2, No. 1, 67-71.\n",
            "   - Gates, G.W. (1972) \"The Reduced Nearest Neighbor Rule\".  IEEE Transactions\n",
            "     on Information Theory, May 1972, 431-433.\n",
            "   - See also: 1988 MLC Proceedings, 54-64.  Cheeseman et al\"s AUTOCLASS II\n",
            "     conceptual clustering system finds 3 classes in the data.\n",
            "   - Many, many more ...\n"
          ],
          "name": "stdout"
        }
      ]
    },
    {
      "cell_type": "code",
      "metadata": {
        "id": "tJGx4my7ZLSR",
        "colab_type": "code",
        "outputId": "568257b8-a47a-4c0f-ab15-d7c6c0c2ca6d",
        "colab": {
          "base_uri": "https://localhost:8080/"
        }
      },
      "source": [
        "data.data"
      ],
      "execution_count": 0,
      "outputs": [
        {
          "output_type": "execute_result",
          "data": {
            "text/plain": [
              "array([[5.1, 3.5, 1.4, 0.2],\n",
              "       [4.9, 3. , 1.4, 0.2],\n",
              "       [4.7, 3.2, 1.3, 0.2],\n",
              "       [4.6, 3.1, 1.5, 0.2],\n",
              "       [5. , 3.6, 1.4, 0.2],\n",
              "       [5.4, 3.9, 1.7, 0.4],\n",
              "       [4.6, 3.4, 1.4, 0.3],\n",
              "       [5. , 3.4, 1.5, 0.2],\n",
              "       [4.4, 2.9, 1.4, 0.2],\n",
              "       [4.9, 3.1, 1.5, 0.1],\n",
              "       [5.4, 3.7, 1.5, 0.2],\n",
              "       [4.8, 3.4, 1.6, 0.2],\n",
              "       [4.8, 3. , 1.4, 0.1],\n",
              "       [4.3, 3. , 1.1, 0.1],\n",
              "       [5.8, 4. , 1.2, 0.2],\n",
              "       [5.7, 4.4, 1.5, 0.4],\n",
              "       [5.4, 3.9, 1.3, 0.4],\n",
              "       [5.1, 3.5, 1.4, 0.3],\n",
              "       [5.7, 3.8, 1.7, 0.3],\n",
              "       [5.1, 3.8, 1.5, 0.3],\n",
              "       [5.4, 3.4, 1.7, 0.2],\n",
              "       [5.1, 3.7, 1.5, 0.4],\n",
              "       [4.6, 3.6, 1. , 0.2],\n",
              "       [5.1, 3.3, 1.7, 0.5],\n",
              "       [4.8, 3.4, 1.9, 0.2],\n",
              "       [5. , 3. , 1.6, 0.2],\n",
              "       [5. , 3.4, 1.6, 0.4],\n",
              "       [5.2, 3.5, 1.5, 0.2],\n",
              "       [5.2, 3.4, 1.4, 0.2],\n",
              "       [4.7, 3.2, 1.6, 0.2],\n",
              "       [4.8, 3.1, 1.6, 0.2],\n",
              "       [5.4, 3.4, 1.5, 0.4],\n",
              "       [5.2, 4.1, 1.5, 0.1],\n",
              "       [5.5, 4.2, 1.4, 0.2],\n",
              "       [4.9, 3.1, 1.5, 0.2],\n",
              "       [5. , 3.2, 1.2, 0.2],\n",
              "       [5.5, 3.5, 1.3, 0.2],\n",
              "       [4.9, 3.6, 1.4, 0.1],\n",
              "       [4.4, 3. , 1.3, 0.2],\n",
              "       [5.1, 3.4, 1.5, 0.2],\n",
              "       [5. , 3.5, 1.3, 0.3],\n",
              "       [4.5, 2.3, 1.3, 0.3],\n",
              "       [4.4, 3.2, 1.3, 0.2],\n",
              "       [5. , 3.5, 1.6, 0.6],\n",
              "       [5.1, 3.8, 1.9, 0.4],\n",
              "       [4.8, 3. , 1.4, 0.3],\n",
              "       [5.1, 3.8, 1.6, 0.2],\n",
              "       [4.6, 3.2, 1.4, 0.2],\n",
              "       [5.3, 3.7, 1.5, 0.2],\n",
              "       [5. , 3.3, 1.4, 0.2],\n",
              "       [7. , 3.2, 4.7, 1.4],\n",
              "       [6.4, 3.2, 4.5, 1.5],\n",
              "       [6.9, 3.1, 4.9, 1.5],\n",
              "       [5.5, 2.3, 4. , 1.3],\n",
              "       [6.5, 2.8, 4.6, 1.5],\n",
              "       [5.7, 2.8, 4.5, 1.3],\n",
              "       [6.3, 3.3, 4.7, 1.6],\n",
              "       [4.9, 2.4, 3.3, 1. ],\n",
              "       [6.6, 2.9, 4.6, 1.3],\n",
              "       [5.2, 2.7, 3.9, 1.4],\n",
              "       [5. , 2. , 3.5, 1. ],\n",
              "       [5.9, 3. , 4.2, 1.5],\n",
              "       [6. , 2.2, 4. , 1. ],\n",
              "       [6.1, 2.9, 4.7, 1.4],\n",
              "       [5.6, 2.9, 3.6, 1.3],\n",
              "       [6.7, 3.1, 4.4, 1.4],\n",
              "       [5.6, 3. , 4.5, 1.5],\n",
              "       [5.8, 2.7, 4.1, 1. ],\n",
              "       [6.2, 2.2, 4.5, 1.5],\n",
              "       [5.6, 2.5, 3.9, 1.1],\n",
              "       [5.9, 3.2, 4.8, 1.8],\n",
              "       [6.1, 2.8, 4. , 1.3],\n",
              "       [6.3, 2.5, 4.9, 1.5],\n",
              "       [6.1, 2.8, 4.7, 1.2],\n",
              "       [6.4, 2.9, 4.3, 1.3],\n",
              "       [6.6, 3. , 4.4, 1.4],\n",
              "       [6.8, 2.8, 4.8, 1.4],\n",
              "       [6.7, 3. , 5. , 1.7],\n",
              "       [6. , 2.9, 4.5, 1.5],\n",
              "       [5.7, 2.6, 3.5, 1. ],\n",
              "       [5.5, 2.4, 3.8, 1.1],\n",
              "       [5.5, 2.4, 3.7, 1. ],\n",
              "       [5.8, 2.7, 3.9, 1.2],\n",
              "       [6. , 2.7, 5.1, 1.6],\n",
              "       [5.4, 3. , 4.5, 1.5],\n",
              "       [6. , 3.4, 4.5, 1.6],\n",
              "       [6.7, 3.1, 4.7, 1.5],\n",
              "       [6.3, 2.3, 4.4, 1.3],\n",
              "       [5.6, 3. , 4.1, 1.3],\n",
              "       [5.5, 2.5, 4. , 1.3],\n",
              "       [5.5, 2.6, 4.4, 1.2],\n",
              "       [6.1, 3. , 4.6, 1.4],\n",
              "       [5.8, 2.6, 4. , 1.2],\n",
              "       [5. , 2.3, 3.3, 1. ],\n",
              "       [5.6, 2.7, 4.2, 1.3],\n",
              "       [5.7, 3. , 4.2, 1.2],\n",
              "       [5.7, 2.9, 4.2, 1.3],\n",
              "       [6.2, 2.9, 4.3, 1.3],\n",
              "       [5.1, 2.5, 3. , 1.1],\n",
              "       [5.7, 2.8, 4.1, 1.3],\n",
              "       [6.3, 3.3, 6. , 2.5],\n",
              "       [5.8, 2.7, 5.1, 1.9],\n",
              "       [7.1, 3. , 5.9, 2.1],\n",
              "       [6.3, 2.9, 5.6, 1.8],\n",
              "       [6.5, 3. , 5.8, 2.2],\n",
              "       [7.6, 3. , 6.6, 2.1],\n",
              "       [4.9, 2.5, 4.5, 1.7],\n",
              "       [7.3, 2.9, 6.3, 1.8],\n",
              "       [6.7, 2.5, 5.8, 1.8],\n",
              "       [7.2, 3.6, 6.1, 2.5],\n",
              "       [6.5, 3.2, 5.1, 2. ],\n",
              "       [6.4, 2.7, 5.3, 1.9],\n",
              "       [6.8, 3. , 5.5, 2.1],\n",
              "       [5.7, 2.5, 5. , 2. ],\n",
              "       [5.8, 2.8, 5.1, 2.4],\n",
              "       [6.4, 3.2, 5.3, 2.3],\n",
              "       [6.5, 3. , 5.5, 1.8],\n",
              "       [7.7, 3.8, 6.7, 2.2],\n",
              "       [7.7, 2.6, 6.9, 2.3],\n",
              "       [6. , 2.2, 5. , 1.5],\n",
              "       [6.9, 3.2, 5.7, 2.3],\n",
              "       [5.6, 2.8, 4.9, 2. ],\n",
              "       [7.7, 2.8, 6.7, 2. ],\n",
              "       [6.3, 2.7, 4.9, 1.8],\n",
              "       [6.7, 3.3, 5.7, 2.1],\n",
              "       [7.2, 3.2, 6. , 1.8],\n",
              "       [6.2, 2.8, 4.8, 1.8],\n",
              "       [6.1, 3. , 4.9, 1.8],\n",
              "       [6.4, 2.8, 5.6, 2.1],\n",
              "       [7.2, 3. , 5.8, 1.6],\n",
              "       [7.4, 2.8, 6.1, 1.9],\n",
              "       [7.9, 3.8, 6.4, 2. ],\n",
              "       [6.4, 2.8, 5.6, 2.2],\n",
              "       [6.3, 2.8, 5.1, 1.5],\n",
              "       [6.1, 2.6, 5.6, 1.4],\n",
              "       [7.7, 3. , 6.1, 2.3],\n",
              "       [6.3, 3.4, 5.6, 2.4],\n",
              "       [6.4, 3.1, 5.5, 1.8],\n",
              "       [6. , 3. , 4.8, 1.8],\n",
              "       [6.9, 3.1, 5.4, 2.1],\n",
              "       [6.7, 3.1, 5.6, 2.4],\n",
              "       [6.9, 3.1, 5.1, 2.3],\n",
              "       [5.8, 2.7, 5.1, 1.9],\n",
              "       [6.8, 3.2, 5.9, 2.3],\n",
              "       [6.7, 3.3, 5.7, 2.5],\n",
              "       [6.7, 3. , 5.2, 2.3],\n",
              "       [6.3, 2.5, 5. , 1.9],\n",
              "       [6.5, 3. , 5.2, 2. ],\n",
              "       [6.2, 3.4, 5.4, 2.3],\n",
              "       [5.9, 3. , 5.1, 1.8]])"
            ]
          },
          "metadata": {
            "tags": []
          },
          "execution_count": 46
        }
      ]
    },
    {
      "cell_type": "code",
      "metadata": {
        "id": "jbSYn7HUZbkX",
        "colab_type": "code",
        "outputId": "8a1195b2-7792-4f00-c447-fd2c44b318e6",
        "colab": {
          "base_uri": "https://localhost:8080/"
        }
      },
      "source": [
        "df = pd.DataFrame(data.data, columns = data.feature_names)\n",
        "df.head()"
      ],
      "execution_count": 0,
      "outputs": [
        {
          "output_type": "execute_result",
          "data": {
            "text/html": [
              "<div>\n",
              "<style scoped>\n",
              "    .dataframe tbody tr th:only-of-type {\n",
              "        vertical-align: middle;\n",
              "    }\n",
              "\n",
              "    .dataframe tbody tr th {\n",
              "        vertical-align: top;\n",
              "    }\n",
              "\n",
              "    .dataframe thead th {\n",
              "        text-align: right;\n",
              "    }\n",
              "</style>\n",
              "<table border=\"1\" class=\"dataframe\">\n",
              "  <thead>\n",
              "    <tr style=\"text-align: right;\">\n",
              "      <th></th>\n",
              "      <th>sepal length (cm)</th>\n",
              "      <th>sepal width (cm)</th>\n",
              "      <th>petal length (cm)</th>\n",
              "      <th>petal width (cm)</th>\n",
              "    </tr>\n",
              "  </thead>\n",
              "  <tbody>\n",
              "    <tr>\n",
              "      <th>0</th>\n",
              "      <td>5.1</td>\n",
              "      <td>3.5</td>\n",
              "      <td>1.4</td>\n",
              "      <td>0.2</td>\n",
              "    </tr>\n",
              "    <tr>\n",
              "      <th>1</th>\n",
              "      <td>4.9</td>\n",
              "      <td>3.0</td>\n",
              "      <td>1.4</td>\n",
              "      <td>0.2</td>\n",
              "    </tr>\n",
              "    <tr>\n",
              "      <th>2</th>\n",
              "      <td>4.7</td>\n",
              "      <td>3.2</td>\n",
              "      <td>1.3</td>\n",
              "      <td>0.2</td>\n",
              "    </tr>\n",
              "    <tr>\n",
              "      <th>3</th>\n",
              "      <td>4.6</td>\n",
              "      <td>3.1</td>\n",
              "      <td>1.5</td>\n",
              "      <td>0.2</td>\n",
              "    </tr>\n",
              "    <tr>\n",
              "      <th>4</th>\n",
              "      <td>5.0</td>\n",
              "      <td>3.6</td>\n",
              "      <td>1.4</td>\n",
              "      <td>0.2</td>\n",
              "    </tr>\n",
              "  </tbody>\n",
              "</table>\n",
              "</div>"
            ],
            "text/plain": [
              "   sepal length (cm)  sepal width (cm)  petal length (cm)  petal width (cm)\n",
              "0                5.1               3.5                1.4               0.2\n",
              "1                4.9               3.0                1.4               0.2\n",
              "2                4.7               3.2                1.3               0.2\n",
              "3                4.6               3.1                1.5               0.2\n",
              "4                5.0               3.6                1.4               0.2"
            ]
          },
          "metadata": {
            "tags": []
          },
          "execution_count": 26
        }
      ]
    },
    {
      "cell_type": "code",
      "metadata": {
        "id": "OQVGB9xpZkHQ",
        "colab_type": "code",
        "outputId": "5acfa4c8-ebf8-42fb-e32b-9f3ecabec775",
        "colab": {
          "base_uri": "https://localhost:8080/"
        }
      },
      "source": [
        "df['label'] = data.target\n",
        "df.head()"
      ],
      "execution_count": 0,
      "outputs": [
        {
          "output_type": "execute_result",
          "data": {
            "text/html": [
              "<div>\n",
              "<style scoped>\n",
              "    .dataframe tbody tr th:only-of-type {\n",
              "        vertical-align: middle;\n",
              "    }\n",
              "\n",
              "    .dataframe tbody tr th {\n",
              "        vertical-align: top;\n",
              "    }\n",
              "\n",
              "    .dataframe thead th {\n",
              "        text-align: right;\n",
              "    }\n",
              "</style>\n",
              "<table border=\"1\" class=\"dataframe\">\n",
              "  <thead>\n",
              "    <tr style=\"text-align: right;\">\n",
              "      <th></th>\n",
              "      <th>sepal length (cm)</th>\n",
              "      <th>sepal width (cm)</th>\n",
              "      <th>petal length (cm)</th>\n",
              "      <th>petal width (cm)</th>\n",
              "      <th>label</th>\n",
              "    </tr>\n",
              "  </thead>\n",
              "  <tbody>\n",
              "    <tr>\n",
              "      <th>0</th>\n",
              "      <td>5.1</td>\n",
              "      <td>3.5</td>\n",
              "      <td>1.4</td>\n",
              "      <td>0.2</td>\n",
              "      <td>0</td>\n",
              "    </tr>\n",
              "    <tr>\n",
              "      <th>1</th>\n",
              "      <td>4.9</td>\n",
              "      <td>3.0</td>\n",
              "      <td>1.4</td>\n",
              "      <td>0.2</td>\n",
              "      <td>0</td>\n",
              "    </tr>\n",
              "    <tr>\n",
              "      <th>2</th>\n",
              "      <td>4.7</td>\n",
              "      <td>3.2</td>\n",
              "      <td>1.3</td>\n",
              "      <td>0.2</td>\n",
              "      <td>0</td>\n",
              "    </tr>\n",
              "    <tr>\n",
              "      <th>3</th>\n",
              "      <td>4.6</td>\n",
              "      <td>3.1</td>\n",
              "      <td>1.5</td>\n",
              "      <td>0.2</td>\n",
              "      <td>0</td>\n",
              "    </tr>\n",
              "    <tr>\n",
              "      <th>4</th>\n",
              "      <td>5.0</td>\n",
              "      <td>3.6</td>\n",
              "      <td>1.4</td>\n",
              "      <td>0.2</td>\n",
              "      <td>0</td>\n",
              "    </tr>\n",
              "  </tbody>\n",
              "</table>\n",
              "</div>"
            ],
            "text/plain": [
              "   sepal length (cm)  sepal width (cm)  petal length (cm)  petal width (cm)  \\\n",
              "0                5.1               3.5                1.4               0.2   \n",
              "1                4.9               3.0                1.4               0.2   \n",
              "2                4.7               3.2                1.3               0.2   \n",
              "3                4.6               3.1                1.5               0.2   \n",
              "4                5.0               3.6                1.4               0.2   \n",
              "\n",
              "   label  \n",
              "0      0  \n",
              "1      0  \n",
              "2      0  \n",
              "3      0  \n",
              "4      0  "
            ]
          },
          "metadata": {
            "tags": []
          },
          "execution_count": 27
        }
      ]
    },
    {
      "cell_type": "code",
      "metadata": {
        "id": "NtCbE2BwaZ4W",
        "colab_type": "code",
        "outputId": "5d8d2570-b40a-4a3c-ff71-4538654c9a80",
        "colab": {
          "base_uri": "https://localhost:8080/"
        }
      },
      "source": [
        "correlation_matrix = df.corr().round(2)\n",
        "print(correlation_matrix)"
      ],
      "execution_count": 0,
      "outputs": [
        {
          "output_type": "stream",
          "text": [
            "                   sepal length (cm)  sepal width (cm)  petal length (cm)  \\\n",
            "sepal length (cm)               1.00             -0.12               0.87   \n",
            "sepal width (cm)               -0.12              1.00              -0.43   \n",
            "petal length (cm)               0.87             -0.43               1.00   \n",
            "petal width (cm)                0.82             -0.37               0.96   \n",
            "label                           0.78             -0.43               0.95   \n",
            "\n",
            "                   petal width (cm)  label  \n",
            "sepal length (cm)              0.82   0.78  \n",
            "sepal width (cm)              -0.37  -0.43  \n",
            "petal length (cm)              0.96   0.95  \n",
            "petal width (cm)               1.00   0.96  \n",
            "label                          0.96   1.00  \n"
          ],
          "name": "stdout"
        }
      ]
    },
    {
      "cell_type": "code",
      "metadata": {
        "id": "xfBOe3yZarCD",
        "colab_type": "code",
        "colab": {}
      },
      "source": [
        "import seaborn as sns"
      ],
      "execution_count": 0,
      "outputs": []
    },
    {
      "cell_type": "code",
      "metadata": {
        "id": "1eroU0-wa3gX",
        "colab_type": "code",
        "outputId": "e1b5a03c-2edf-4bed-82d9-ffeabbd9eef1",
        "colab": {
          "base_uri": "https://localhost:8080/"
        }
      },
      "source": [
        "plt.figure(figsize=(15,10))\n",
        "sns.heatmap(data = correlation_matrix, annot = True)\n",
        "plt.show()"
      ],
      "execution_count": 0,
      "outputs": [
        {
          "output_type": "display_data",
          "data": {
            "image/png": "[encoded data removed]",
            "text/plain": [
              "<Figure size 1080x720 with 2 Axes>"
            ]
          },
          "metadata": {
            "tags": []
          }
        }
      ]
    },
    {
      "cell_type": "code",
      "metadata": {
        "id": "zn6GPtj2bMyx",
        "colab_type": "code",
        "outputId": "c5678851-6c77-4668-f295-363e2de9e2a2",
        "colab": {
          "base_uri": "https://localhost:8080/"
        }
      },
      "source": [
        "plt.scatter(df['sepal width (cm)'], df['petal width (cm)'], c=df['label'], cmap = plt.cm.Set1)\n",
        "plt.show()"
      ],
      "execution_count": 0,
      "outputs": [
        {
          "output_type": "display_data",
          "data": {
            "image/png": "[encoded data removed]",
            "text/plain": [
              "<Figure size 576x396 with 1 Axes>"
            ]
          },
          "metadata": {
            "tags": []
          }
        }
      ]
    },
    {
      "cell_type": "code",
      "metadata": {
        "id": "JbZfHduxcCFo",
        "colab_type": "code",
        "colab": {}
      },
      "source": [
        "import numpy as np"
      ],
      "execution_count": 0,
      "outputs": []
    },
    {
      "cell_type": "code",
      "metadata": {
        "id": "f74Rk0H-dR2S",
        "colab_type": "code",
        "outputId": "6f0127b5-1e49-4835-caea-178d0f906972",
        "colab": {
          "base_uri": "https://localhost:8080/"
        }
      },
      "source": [
        "np.random.seed(10)\n",
        "np.random.randn(10)"
      ],
      "execution_count": 0,
      "outputs": [
        {
          "output_type": "execute_result",
          "data": {
            "text/plain": [
              "array([ 1.3315865 ,  0.71527897, -1.54540029, -0.00838385,  0.62133597,\n",
              "       -0.72008556,  0.26551159,  0.10854853,  0.00429143, -0.17460021])"
            ]
          },
          "metadata": {
            "tags": []
          },
          "execution_count": 33
        }
      ]
    },
    {
      "cell_type": "code",
      "metadata": {
        "id": "iqQ5OVvRdUo6",
        "colab_type": "code",
        "colab": {}
      },
      "source": [
        "from sklearn.model_selection import train_test_split"
      ],
      "execution_count": 0,
      "outputs": []
    },
    {
      "cell_type": "code",
      "metadata": {
        "id": "ZGhslZtHd_zb",
        "colab_type": "code",
        "outputId": "13bb4987-78c2-4707-9e46-b911a9bccbb8",
        "colab": {
          "base_uri": "https://localhost:8080/"
        }
      },
      "source": [
        "data.feature_names"
      ],
      "execution_count": 0,
      "outputs": [
        {
          "output_type": "execute_result",
          "data": {
            "text/plain": [
              "['sepal length (cm)',\n",
              " 'sepal width (cm)',\n",
              " 'petal length (cm)',\n",
              " 'petal width (cm)']"
            ]
          },
          "metadata": {
            "tags": []
          },
          "execution_count": 35
        }
      ]
    },
    {
      "cell_type": "code",
      "metadata": {
        "id": "ux8E34G_eOQj",
        "colab_type": "code",
        "colab": {}
      },
      "source": [
        "# df[['', '']]"
      ],
      "execution_count": 0,
      "outputs": []
    },
    {
      "cell_type": "code",
      "metadata": {
        "id": "O7qiZmR8eJIB",
        "colab_type": "code",
        "outputId": "52582b1a-a70c-416c-ab2b-ced4b0320f55",
        "colab": {
          "base_uri": "https://localhost:8080/"
        }
      },
      "source": [
        "df[data.feature_names].head()"
      ],
      "execution_count": 0,
      "outputs": [
        {
          "output_type": "execute_result",
          "data": {
            "text/html": [
              "<div>\n",
              "<style scoped>\n",
              "    .dataframe tbody tr th:only-of-type {\n",
              "        vertical-align: middle;\n",
              "    }\n",
              "\n",
              "    .dataframe tbody tr th {\n",
              "        vertical-align: top;\n",
              "    }\n",
              "\n",
              "    .dataframe thead th {\n",
              "        text-align: right;\n",
              "    }\n",
              "</style>\n",
              "<table border=\"1\" class=\"dataframe\">\n",
              "  <thead>\n",
              "    <tr style=\"text-align: right;\">\n",
              "      <th></th>\n",
              "      <th>sepal length (cm)</th>\n",
              "      <th>sepal width (cm)</th>\n",
              "      <th>petal length (cm)</th>\n",
              "      <th>petal width (cm)</th>\n",
              "    </tr>\n",
              "  </thead>\n",
              "  <tbody>\n",
              "    <tr>\n",
              "      <th>0</th>\n",
              "      <td>5.1</td>\n",
              "      <td>3.5</td>\n",
              "      <td>1.4</td>\n",
              "      <td>0.2</td>\n",
              "    </tr>\n",
              "    <tr>\n",
              "      <th>1</th>\n",
              "      <td>4.9</td>\n",
              "      <td>3.0</td>\n",
              "      <td>1.4</td>\n",
              "      <td>0.2</td>\n",
              "    </tr>\n",
              "    <tr>\n",
              "      <th>2</th>\n",
              "      <td>4.7</td>\n",
              "      <td>3.2</td>\n",
              "      <td>1.3</td>\n",
              "      <td>0.2</td>\n",
              "    </tr>\n",
              "    <tr>\n",
              "      <th>3</th>\n",
              "      <td>4.6</td>\n",
              "      <td>3.1</td>\n",
              "      <td>1.5</td>\n",
              "      <td>0.2</td>\n",
              "    </tr>\n",
              "    <tr>\n",
              "      <th>4</th>\n",
              "      <td>5.0</td>\n",
              "      <td>3.6</td>\n",
              "      <td>1.4</td>\n",
              "      <td>0.2</td>\n",
              "    </tr>\n",
              "  </tbody>\n",
              "</table>\n",
              "</div>"
            ],
            "text/plain": [
              "   sepal length (cm)  sepal width (cm)  petal length (cm)  petal width (cm)\n",
              "0                5.1               3.5                1.4               0.2\n",
              "1                4.9               3.0                1.4               0.2\n",
              "2                4.7               3.2                1.3               0.2\n",
              "3                4.6               3.1                1.5               0.2\n",
              "4                5.0               3.6                1.4               0.2"
            ]
          },
          "metadata": {
            "tags": []
          },
          "execution_count": 37
        }
      ]
    },
    {
      "cell_type": "code",
      "metadata": {
        "id": "i8fQmJb2dya0",
        "colab_type": "code",
        "colab": {}
      },
      "source": [
        "X_train, X_test, y_train, y_test = train_test_split(df[['sepal width (cm)', 'petal width (cm)']], df['label'],\n",
        "                                                   test_size = 0.2, random_state = 2)"
      ],
      "execution_count": 0,
      "outputs": []
    },
    {
      "cell_type": "code",
      "metadata": {
        "id": "XR5ij0K1ecPe",
        "colab_type": "code",
        "outputId": "5e5f3fa2-da6f-4d1a-e78b-de479367f693",
        "colab": {
          "base_uri": "https://localhost:8080/"
        }
      },
      "source": [
        "print(\"X_train shape: \", X_train.shape)\n",
        "print(\"y_train shape: \", y_train.shape)\n",
        "print(\"X_train shape: \", X_test.shape)\n",
        "print(\"y_train shape: \", y_test.shape)"
      ],
      "execution_count": 0,
      "outputs": [
        {
          "output_type": "stream",
          "text": [
            "X_train shape:  (120, 2)\n",
            "y_train shape:  (120,)\n",
            "X_train shape:  (30, 2)\n",
            "y_train shape:  (30,)\n"
          ],
          "name": "stdout"
        }
      ]
    },
    {
      "cell_type": "code",
      "metadata": {
        "id": "xoRNJDuefrcD",
        "colab_type": "code",
        "colab": {}
      },
      "source": [
        "from sklearn.linear_model import LinearRegression"
      ],
      "execution_count": 0,
      "outputs": []
    },
    {
      "cell_type": "code",
      "metadata": {
        "id": "rGFjY_FdgDEQ",
        "colab_type": "code",
        "outputId": "d1c12aae-c209-443b-be23-0f4838589ae3",
        "colab": {
          "base_uri": "https://localhost:8080/"
        }
      },
      "source": [
        "model = LinearRegression()\n",
        "model.fit(X_train, y_train)\n"
      ],
      "execution_count": 0,
      "outputs": [
        {
          "output_type": "execute_result",
          "data": {
            "text/plain": [
              "LinearRegression(copy_X=True, fit_intercept=True, n_jobs=None,\n",
              "         normalize=False)"
            ]
          },
          "metadata": {
            "tags": []
          },
          "execution_count": 41
        }
      ]
    },
    {
      "cell_type": "code",
      "metadata": {
        "id": "D0HN8mhagWxb",
        "colab_type": "code",
        "outputId": "c2087443-bdc7-4679-dd9c-c3f3276e2e7a",
        "colab": {
          "base_uri": "https://localhost:8080/"
        }
      },
      "source": [
        "model.score(X_test, y_test)"
      ],
      "execution_count": 0,
      "outputs": [
        {
          "output_type": "execute_result",
          "data": {
            "text/plain": [
              "0.9217666150694046"
            ]
          },
          "metadata": {
            "tags": []
          },
          "execution_count": 42
        }
      ]
    },
    {
      "cell_type": "code",
      "metadata": {
        "id": "3RKWJTj7gc_z",
        "colab_type": "code",
        "colab": {}
      },
      "source": [
        ""
      ],
      "execution_count": 0,
      "outputs": []
    }
  ]
}
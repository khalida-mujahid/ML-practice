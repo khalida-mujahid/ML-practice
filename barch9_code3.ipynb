{
  "nbformat": 4,
  "nbformat_minor": 0,
  "metadata": {
    "colab": {
      "name": "barch9_code3.ipynb",
      "version": "0.3.2",
      "provenance": [],
      "include_colab_link": true
    },
    "kernelspec": {
      "name": "python3",
      "display_name": "Python 3"
    }
  },
  "cells": [
    {
      "cell_type": "markdown",
      "metadata": {
        "id": "view-in-github",
        "colab_type": "text"
      },
      "source": [
        "<a href=\"https://colab.research.google.com/github/khalida-mujahid/ML-practice/blob/master/barch9_code3.ipynb\" target=\"_parent\"><img src=\"https://colab.research.google.com/assets/colab-badge.svg\" alt=\"Open In Colab\"/></a>"
      ]
    },
    {
      "cell_type": "markdown",
      "metadata": {
        "id": "KC0DAsYZ7peG",
        "colab_type": "text"
      },
      "source": [
        "# Gradient Descent\n",
        "\n"
      ]
    },
    {
      "cell_type": "markdown",
      "metadata": {
        "id": "t6jqvRXN7jjM",
        "colab_type": "text"
      },
      "source": [
        "![alt text](https://cdn-images-1.medium.com/max/800/1*09kq2L23D9XM_9Xtr8gc8Q.png)"
      ]
    },
    {
      "cell_type": "markdown",
      "metadata": {
        "id": "dr_wBMgO7o2O",
        "colab_type": "text"
      },
      "source": [
        "# Analogy for Gradient Descent"
      ]
    },
    {
      "cell_type": "markdown",
      "metadata": {
        "id": "9K77j-u172Tx",
        "colab_type": "text"
      },
      "source": [
        "![](https://cdn-images-1.medium.com/max/800/1*N5WjbzwsCFse-KPjBWZZ6g.jpeg)"
      ]
    },
    {
      "cell_type": "markdown",
      "metadata": {
        "id": "wysiFW2Z8ag3",
        "colab_type": "text"
      },
      "source": [
        "# Types and Comparison of Gradient Descent\n",
        "\n",
        "![alt text](https://blog-c7ff.kxcdn.com/blog/wp-content/uploads/2017/02/Gradient_Descent_Types.png)"
      ]
    },
    {
      "cell_type": "code",
      "metadata": {
        "id": "0aOmYW317LNe",
        "colab_type": "code",
        "colab": {}
      },
      "source": [
        "X2 = [x ** 2 for x in X]\n",
        "XY = [x*y for x,y in zip(X,Y)]"
      ],
      "execution_count": 0,
      "outputs": []
    },
    {
      "cell_type": "code",
      "metadata": {
        "id": "GlPfVCFWWTBb",
        "colab_type": "code",
        "colab": {}
      },
      "source": [
        "n = len(X)"
      ],
      "execution_count": 0,
      "outputs": []
    },
    {
      "cell_type": "code",
      "metadata": {
        "id": "MMlkJc6DVqcX",
        "colab_type": "code",
        "colab": {}
      },
      "source": [
        "a = ((sum(Y)*sum(X2)) - (sum(X)*sum(XY)))/(n*sum(X2) - sum(X)**2)\n",
        "b = (n*sum(XY) - (sum(X)*sum(Y)))/(n*sum(X2) - sum(X)**2)"
      ],
      "execution_count": 0,
      "outputs": []
    },
    {
      "cell_type": "code",
      "metadata": {
        "id": "meVE-HhPWVvW",
        "colab_type": "code",
        "outputId": "731b9cfa-445c-4a63-ec32-9ed64abd605b",
        "colab": {
          "base_uri": "https://localhost:8080/",
          "height": 51
        }
      },
      "source": [
        "print(\"a: \", a)\n",
        "print(\"b: \", b)"
      ],
      "execution_count": 0,
      "outputs": [
        {
          "output_type": "stream",
          "text": [
            "a:  -70.0\n",
            "b:  4.0\n"
          ],
          "name": "stdout"
        }
      ]
    },
    {
      "cell_type": "code",
      "metadata": {
        "id": "uRTKuwNaWj-r",
        "colab_type": "code",
        "outputId": "b93bbc05-6c42-42ee-f343-c02f60d933f9",
        "colab": {
          "base_uri": "https://localhost:8080/",
          "height": 34
        }
      },
      "source": [
        "f(a,b,20)"
      ],
      "execution_count": 0,
      "outputs": [
        {
          "output_type": "execute_result",
          "data": {
            "text/plain": [
              "10.0"
            ]
          },
          "metadata": {
            "tags": []
          },
          "execution_count": 7
        }
      ]
    },
    {
      "cell_type": "code",
      "metadata": {
        "id": "h-UjQRnQWobs",
        "colab_type": "code",
        "outputId": "99aec51f-4902-4bce-8d9a-ae5da67c5174",
        "colab": {
          "base_uri": "https://localhost:8080/",
          "height": 34
        }
      },
      "source": [
        "f(a,b,37)"
      ],
      "execution_count": 0,
      "outputs": [
        {
          "output_type": "execute_result",
          "data": {
            "text/plain": [
              "78.0"
            ]
          },
          "metadata": {
            "tags": []
          },
          "execution_count": 8
        }
      ]
    },
    {
      "cell_type": "code",
      "metadata": {
        "id": "quTgd_XOXEDK",
        "colab_type": "code",
        "colab": {}
      },
      "source": [
        "X_test = [15, 30, 40]"
      ],
      "execution_count": 0,
      "outputs": []
    },
    {
      "cell_type": "code",
      "metadata": {
        "id": "BfAzTl6bW6mZ",
        "colab_type": "code",
        "colab": {}
      },
      "source": [
        "y_pred = [f(a,2,x) for x in X_test]"
      ],
      "execution_count": 0,
      "outputs": []
    },
    {
      "cell_type": "code",
      "metadata": {
        "id": "tOlpD9YhWtT3",
        "colab_type": "code",
        "outputId": "a0a4b7ec-ef3d-487e-8d54-dfd5b835efa8",
        "colab": {
          "base_uri": "https://localhost:8080/",
          "height": 347
        }
      },
      "source": [
        "import matplotlib.pyplot as plt\n",
        "\n",
        "plt.scatter(X,Y)\n",
        "plt.plot(X_test, y_pred)\n",
        "plt.show()"
      ],
      "execution_count": 0,
      "outputs": [
        {
          "output_type": "display_data",
          "data": {
            "image/png": "[encoded data removed]",
            "text/plain": [
              "<Figure size 576x396 with 1 Axes>"
            ]
          },
          "metadata": {
            "tags": []
          }
        }
      ]
    },
    {
      "cell_type": "code",
      "metadata": {
        "id": "tINlf8P_WaA8",
        "colab_type": "code",
        "colab": {}
      },
      "source": [
        "def f(a,b,x):\n",
        "  return a + b*x"
      ],
      "execution_count": 0,
      "outputs": []
    },
    {
      "cell_type": "code",
      "metadata": {
        "id": "PLbJe4QqqU1y",
        "colab_type": "code",
        "outputId": "e167efe5-e8f8-43eb-f3c7-afa721dd9fba",
        "colab": {
          "base_uri": "https://localhost:8080/",
          "height": 34
        }
      },
      "source": [
        "f(0,0, 20)"
      ],
      "execution_count": 0,
      "outputs": [
        {
          "output_type": "execute_result",
          "data": {
            "text/plain": [
              "0"
            ]
          },
          "metadata": {
            "tags": []
          },
          "execution_count": 48
        }
      ]
    },
    {
      "cell_type": "code",
      "metadata": {
        "id": "RH4ayB847oUo",
        "colab_type": "code",
        "colab": {}
      },
      "source": [
        "X = [20,25,30,35]\n",
        "Y = [10, 30, 50, 70]"
      ],
      "execution_count": 0,
      "outputs": []
    },
    {
      "cell_type": "code",
      "metadata": {
        "id": "L7JOiWVMW0Vu",
        "colab_type": "code",
        "colab": {}
      },
      "source": [
        "w = [0,0]\n",
        "alpha = 0.0001\n",
        "epochs = 10\n",
        "m = len(X)"
      ],
      "execution_count": 0,
      "outputs": []
    },
    {
      "cell_type": "code",
      "metadata": {
        "id": "amgz4u-3laS3",
        "colab_type": "code",
        "outputId": "47ad8070-92a1-46e0-adf3-57915dcd45f1",
        "colab": {
          "base_uri": "https://localhost:8080/",
          "height": 192
        }
      },
      "source": [
        "for i in range(epochs):\n",
        "  squared_error = 0\n",
        "  error = list()\n",
        "  for x,y in zip(X,Y):\n",
        "    prediction = f(w[0], w[1], x)\n",
        "    error.append(y - prediction) \n",
        "    squared_error += (y - prediction ** 2)\n",
        "  w[0] = w[0] + alpha *(2/m) * (sum(error))\n",
        "  w[1] = w[1] + alpha * (2/m)* (sum([e*x for e,x in zip(error, X)]))\n",
        "  print(\"MSE: \", squared_error/len(X), \"Weights: \", w)"
      ],
      "execution_count": 0,
      "outputs": [
        {
          "output_type": "stream",
          "text": [
            "MSE:  40.0 Weights:  [0.008, 0.24500000000000002]\n",
            "MSE:  -7.3775515000000045 Weights:  [0.014650900000000001, 0.45136850000000006]\n",
            "MSE:  -120.80407635938346 Weights:  [0.02016544307, 0.6251973813]\n",
            "MSE:  -268.50532806379806 Weights:  [0.024722824384236, 0.771617883808365]\n",
            "MSE:  -429.922722664526 Weights:  [0.028473981458413147, 0.8949520915744342]\n",
            "MSE:  -592.1420238701066 Weights:  [0.031546050158462076, 0.9988405302534396]\n",
            "MSE:  -747.4089100346187 Weights:  [0.034046118032036464, 1.0863496434626514]\n",
            "MSE:  -891.4078824213506 Weights:  [0.036064385769385476, 1.1600623209681076]\n",
            "MSE:  -1022.0761955355229 Weights:  [0.03767683012690701, 1.222154151293899]\n",
            "MSE:  -1138.791854733491 Weights:  [0.03894744692876518, 1.2744576498994118]\n"
          ],
          "name": "stdout"
        }
      ]
    },
    {
      "cell_type": "code",
      "metadata": {
        "id": "iX3X7xwFmW8u",
        "colab_type": "code",
        "outputId": "6d3133e4-760d-43c8-8b38-938af723d987",
        "colab": {
          "base_uri": "https://localhost:8080/",
          "height": 34
        }
      },
      "source": [
        "f(w[0], w[1], 20)"
      ],
      "execution_count": 0,
      "outputs": [
        {
          "output_type": "execute_result",
          "data": {
            "text/plain": [
              "-1.0224258489877017e+46"
            ]
          },
          "metadata": {
            "tags": []
          },
          "execution_count": 28
        }
      ]
    },
    {
      "cell_type": "code",
      "metadata": {
        "id": "6UfHqRaxoGAw",
        "colab_type": "code",
        "colab": {}
      },
      "source": [
        ""
      ],
      "execution_count": 0,
      "outputs": []
    }
  ]
}
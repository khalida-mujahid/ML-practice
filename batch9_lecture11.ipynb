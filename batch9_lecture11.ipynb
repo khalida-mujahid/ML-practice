{
  "nbformat": 4,
  "nbformat_minor": 0,
  "metadata": {
    "colab": {
      "name": "batch9_lecture11.ipynb",
      "version": "0.3.2",
      "provenance": [],
      "include_colab_link": true
    },
    "kernelspec": {
      "name": "python3",
      "display_name": "Python 3"
    },
    "accelerator": "GPU"
  },
  "cells": [
    {
      "cell_type": "markdown",
      "metadata": {
        "id": "view-in-github",
        "colab_type": "text"
      },
      "source": [
        "<a href=\"https://colab.research.google.com/github/khalida-mujahid/ML-practice/blob/master/batch9_lecture11.ipynb\" target=\"_parent\"><img src=\"https://colab.research.google.com/assets/colab-badge.svg\" alt=\"Open In Colab\"/></a>"
      ]
    },
    {
      "cell_type": "code",
      "metadata": {
        "id": "W_RYymq-l-iN",
        "colab_type": "code",
        "outputId": "7fc8efa2-6a55-4419-94c0-1b9a8b11bea8",
        "colab": {
          "base_uri": "https://localhost:8080/",
          "height": 306
        }
      },
      "source": [
        "!nvidia-smi"
      ],
      "execution_count": 0,
      "outputs": [
        {
          "output_type": "stream",
          "text": [
            "Fri Mar  1 14:13:54 2019       \n",
            "+-----------------------------------------------------------------------------+\n",
            "| NVIDIA-SMI 410.79       Driver Version: 410.79       CUDA Version: 10.0     |\n",
            "|-------------------------------+----------------------+----------------------+\n",
            "| GPU  Name        Persistence-M| Bus-Id        Disp.A | Volatile Uncorr. ECC |\n",
            "| Fan  Temp  Perf  Pwr:Usage/Cap|         Memory-Usage | GPU-Util  Compute M. |\n",
            "|===============================+======================+======================|\n",
            "|   0  Tesla K80           Off  | 00000000:00:04.0 Off |                    0 |\n",
            "| N/A   36C    P8    30W / 149W |      0MiB / 11441MiB |      0%      Default |\n",
            "+-------------------------------+----------------------+----------------------+\n",
            "                                                                               \n",
            "+-----------------------------------------------------------------------------+\n",
            "| Processes:                                                       GPU Memory |\n",
            "|  GPU       PID   Type   Process name                             Usage      |\n",
            "|=============================================================================|\n",
            "|  No running processes found                                                 |\n",
            "+-----------------------------------------------------------------------------+\n"
          ],
          "name": "stdout"
        }
      ]
    },
    {
      "cell_type": "code",
      "metadata": {
        "id": "egAZB7abmqN3",
        "colab_type": "code",
        "outputId": "bdab4b76-31cb-4d39-95c7-c1b811a4d686",
        "colab": {
          "base_uri": "https://localhost:8080/",
          "height": 68
        }
      },
      "source": [
        "from keras.datasets import boston_housing\n",
        "\n",
        "(x_train, y_train), (x_test, y_test) = boston_housing.load_data()"
      ],
      "execution_count": 0,
      "outputs": [
        {
          "output_type": "stream",
          "text": [
            "Using TensorFlow backend.\n"
          ],
          "name": "stderr"
        },
        {
          "output_type": "stream",
          "text": [
            "Downloading data from https://s3.amazonaws.com/keras-datasets/boston_housing.npz\n",
            "57344/57026 [==============================] - 0s 1us/step\n"
          ],
          "name": "stdout"
        }
      ]
    },
    {
      "cell_type": "code",
      "metadata": {
        "id": "ICvlJKDFm5gZ",
        "colab_type": "code",
        "outputId": "18a8c1d9-32c9-4309-ede5-a1e7c9e00eba",
        "colab": {
          "base_uri": "https://localhost:8080/",
          "height": 51
        }
      },
      "source": [
        "print(x_train.shape)\n",
        "print(y_train.shape)"
      ],
      "execution_count": 0,
      "outputs": [
        {
          "output_type": "stream",
          "text": [
            "(404, 13)\n",
            "(404,)\n"
          ],
          "name": "stdout"
        }
      ]
    },
    {
      "cell_type": "code",
      "metadata": {
        "id": "hrmtN9hUm98Z",
        "colab_type": "code",
        "colab": {}
      },
      "source": [
        "from keras.models import Sequential\n",
        "from keras.layers import Dense"
      ],
      "execution_count": 0,
      "outputs": []
    },
    {
      "cell_type": "code",
      "metadata": {
        "id": "nWwFW5G7nDjQ",
        "colab_type": "code",
        "colab": {}
      },
      "source": [
        "model = Sequential()\n",
        "model.add(Dense(2, activation = 'relu', use_bias= False, ))\n",
        "model.add(Dense(1, use_bias= False))"
      ],
      "execution_count": 0,
      "outputs": []
    },
    {
      "cell_type": "code",
      "metadata": {
        "id": "u5sFp1GWoLdM",
        "colab_type": "code",
        "colab": {}
      },
      "source": [
        "model.compile(optimizer = 'adam', loss = 'mean_squared_error')"
      ],
      "execution_count": 0,
      "outputs": []
    },
    {
      "cell_type": "code",
      "metadata": {
        "id": "98RNBoAtsmBC",
        "colab_type": "code",
        "colab": {}
      },
      "source": [
        "from keras.callbacks import EarlyStopping"
      ],
      "execution_count": 0,
      "outputs": []
    },
    {
      "cell_type": "code",
      "metadata": {
        "id": "K34XqJ3xsq6S",
        "colab_type": "code",
        "colab": {}
      },
      "source": [
        "es = EarlyStopping(monitor = 'val_loss', patience = 10)"
      ],
      "execution_count": 0,
      "outputs": []
    },
    {
      "cell_type": "code",
      "metadata": {
        "id": "nLup-Ec4owI_",
        "colab_type": "code",
        "colab": {}
      },
      "source": [
        "model.fit(x = x_train, y = y_train, batch_size = 32, epochs = 10000, \n",
        "         validation_split = 0.2, callbacks = [es])"
      ],
      "execution_count": 0,
      "outputs": []
    },
    {
      "cell_type": "code",
      "metadata": {
        "id": "AMHzKppWqAik",
        "colab_type": "code",
        "outputId": "05cf6df8-6c65-4f0b-b32d-29e43f06644c",
        "colab": {
          "base_uri": "https://localhost:8080/",
          "height": 51
        }
      },
      "source": [
        "model.evaluate(x = x_test, y = y_test, batch_size = 32)"
      ],
      "execution_count": 0,
      "outputs": [
        {
          "output_type": "stream",
          "text": [
            "102/102 [==============================] - 0s 112us/step\n"
          ],
          "name": "stdout"
        },
        {
          "output_type": "execute_result",
          "data": {
            "text/plain": [
              "615.8578574984681"
            ]
          },
          "metadata": {
            "tags": []
          },
          "execution_count": 42
        }
      ]
    },
    {
      "cell_type": "code",
      "metadata": {
        "id": "ZWig-Ju4t5h5",
        "colab_type": "code",
        "colab": {}
      },
      "source": [
        "model.summary()"
      ],
      "execution_count": 0,
      "outputs": []
    },
    {
      "cell_type": "code",
      "metadata": {
        "id": "AIUtEW9TuXIU",
        "colab_type": "code",
        "colab": {}
      },
      "source": [
        "from keras.datasets import fashion_mnist\n",
        "\n",
        "(x_train, y_train), (x_test, y_test) = fashion_mnist.load_data()"
      ],
      "execution_count": 0,
      "outputs": []
    },
    {
      "cell_type": "code",
      "metadata": {
        "id": "6WTmOhhE6lS3",
        "colab_type": "code",
        "outputId": "7b08caee-fd01-44c9-9097-f66342f2f9a5",
        "colab": {
          "base_uri": "https://localhost:8080/",
          "height": 51
        }
      },
      "source": [
        "print(x_train.shape)\n",
        "print(y_train.shape)"
      ],
      "execution_count": 0,
      "outputs": [
        {
          "output_type": "stream",
          "text": [
            "(60000, 28, 28)\n",
            "(60000,)\n"
          ],
          "name": "stdout"
        }
      ]
    },
    {
      "cell_type": "code",
      "metadata": {
        "id": "103JsZZv6peG",
        "colab_type": "code",
        "outputId": "bff99a11-8852-4937-e637-49c6e35630be",
        "colab": {
          "base_uri": "https://localhost:8080/",
          "height": 34
        }
      },
      "source": [
        "print(y_train[:4])"
      ],
      "execution_count": 0,
      "outputs": [
        {
          "output_type": "stream",
          "text": [
            "[9 0 0 3]\n"
          ],
          "name": "stdout"
        }
      ]
    },
    {
      "cell_type": "code",
      "metadata": {
        "id": "wvFPOua06xnJ",
        "colab_type": "code",
        "colab": {}
      },
      "source": [
        "import matplotlib.pyplot as plt\n",
        "import numpy as np"
      ],
      "execution_count": 0,
      "outputs": []
    },
    {
      "cell_type": "code",
      "metadata": {
        "id": "GlG8hP5U69cc",
        "colab_type": "code",
        "outputId": "9859d085-91b6-4810-8100-cbfd942ed1de",
        "colab": {
          "base_uri": "https://localhost:8080/",
          "height": 591
        }
      },
      "source": [
        "plt.figure(figsize = (15,15))\n",
        "for i in range(5):\n",
        "  idx = np.random.randint(0, 60000)\n",
        "  plt.subplot(3,3,i+1)\n",
        "  plt.imshow(x_train[idx])\n",
        "  plt.axis('off')\n",
        "  plt.title(y_train[idx])\n",
        "plt.show()"
      ],
      "execution_count": 0,
      "outputs": [
        {
          "output_type": "display_data",
          "data": {
            "image/png": "[encoded data removed]",
            "text/plain": [
              "<Figure size 1080x1080 with 5 Axes>"
            ]
          },
          "metadata": {
            "tags": []
          }
        }
      ]
    },
    {
      "cell_type": "code",
      "metadata": {
        "id": "ZrDBCpML7ogi",
        "colab_type": "code",
        "outputId": "26a9bda0-f75d-4be7-d904-3f024182e1cc",
        "colab": {
          "base_uri": "https://localhost:8080/",
          "height": 34
        }
      },
      "source": [
        "x_train = x_train.reshape(-1, 28*28)\n",
        "print(x_train.shape)"
      ],
      "execution_count": 0,
      "outputs": [
        {
          "output_type": "stream",
          "text": [
            "(60000, 784)\n"
          ],
          "name": "stdout"
        }
      ]
    },
    {
      "cell_type": "code",
      "metadata": {
        "id": "-Lei2JpF8UAj",
        "colab_type": "code",
        "outputId": "8f076696-9087-4068-a366-7572c9cafa25",
        "colab": {
          "base_uri": "https://localhost:8080/",
          "height": 34
        }
      },
      "source": [
        "x_test = x_test.reshape(-1, 28*28)\n",
        "print(x_test.shape)"
      ],
      "execution_count": 0,
      "outputs": [
        {
          "output_type": "stream",
          "text": [
            "(10000, 784)\n"
          ],
          "name": "stdout"
        }
      ]
    },
    {
      "cell_type": "code",
      "metadata": {
        "id": "6mCFyoi9-jco",
        "colab_type": "code",
        "colab": {}
      },
      "source": [
        "y_train = to_categorical(y_train, 10)"
      ],
      "execution_count": 0,
      "outputs": []
    },
    {
      "cell_type": "code",
      "metadata": {
        "id": "SmEL834P8ZpL",
        "colab_type": "code",
        "colab": {}
      },
      "source": [
        "from keras.models import Model\n",
        "from keras.layers import Input, Activation, Average"
      ],
      "execution_count": 0,
      "outputs": []
    },
    {
      "cell_type": "code",
      "metadata": {
        "id": "XR2m3aMw8hrR",
        "colab_type": "code",
        "colab": {}
      },
      "source": [
        "inp = Input(shape = (784, ))\n",
        "\n",
        "x1 = Dense(256, activation = 'tanh')(inp)\n",
        "x2 = Dense(128, activation = 'tanh')(inp)\n",
        "x3 = Dense(512, activation = 'tanh')(inp)\n",
        "\n",
        "x1 = Dense(10, activation = 'sigmoid')(x1)\n",
        "x2 = Dense(10, activation = 'sigmoid')(x2)\n",
        "x3 = Dense(10, activation = 'sigmoid')(x3)\n",
        "\n",
        "x = Average()([x1,x2,x3])\n",
        "out = Dense(10, activation = 'softmax')(x)"
      ],
      "execution_count": 0,
      "outputs": []
    },
    {
      "cell_type": "code",
      "metadata": {
        "id": "EOTst6hR9YsV",
        "colab_type": "code",
        "colab": {}
      },
      "source": [
        "model = Model(inp, out)"
      ],
      "execution_count": 0,
      "outputs": []
    },
    {
      "cell_type": "code",
      "metadata": {
        "id": "5qCJ5laI9hKJ",
        "colab_type": "code",
        "outputId": "5cc40ccc-4c28-47ef-8a54-51850aa22e8a",
        "colab": {
          "base_uri": "https://localhost:8080/",
          "height": 476
        }
      },
      "source": [
        "model.summary()"
      ],
      "execution_count": 0,
      "outputs": [
        {
          "output_type": "stream",
          "text": [
            "__________________________________________________________________________________________________\n",
            "Layer (type)                    Output Shape         Param #     Connected to                     \n",
            "==================================================================================================\n",
            "input_11 (InputLayer)           (None, 784)          0                                            \n",
            "__________________________________________________________________________________________________\n",
            "dense_56 (Dense)                (None, 256)          200960      input_11[0][0]                   \n",
            "__________________________________________________________________________________________________\n",
            "dense_57 (Dense)                (None, 128)          100480      input_11[0][0]                   \n",
            "__________________________________________________________________________________________________\n",
            "dense_58 (Dense)                (None, 512)          401920      input_11[0][0]                   \n",
            "__________________________________________________________________________________________________\n",
            "dense_59 (Dense)                (None, 10)           2570        dense_56[0][0]                   \n",
            "__________________________________________________________________________________________________\n",
            "dense_60 (Dense)                (None, 10)           1290        dense_57[0][0]                   \n",
            "__________________________________________________________________________________________________\n",
            "dense_61 (Dense)                (None, 10)           5130        dense_58[0][0]                   \n",
            "__________________________________________________________________________________________________\n",
            "average_8 (Average)             (None, 10)           0           dense_59[0][0]                   \n",
            "                                                                 dense_60[0][0]                   \n",
            "                                                                 dense_61[0][0]                   \n",
            "__________________________________________________________________________________________________\n",
            "dense_62 (Dense)                (None, 10)           110         average_8[0][0]                  \n",
            "==================================================================================================\n",
            "Total params: 712,460\n",
            "Trainable params: 712,460\n",
            "Non-trainable params: 0\n",
            "__________________________________________________________________________________________________\n"
          ],
          "name": "stdout"
        }
      ]
    },
    {
      "cell_type": "code",
      "metadata": {
        "id": "AHVDAfOM9iUq",
        "colab_type": "code",
        "colab": {}
      },
      "source": [
        "from keras.utils import to_categorical"
      ],
      "execution_count": 0,
      "outputs": []
    },
    {
      "cell_type": "code",
      "metadata": {
        "id": "9mjE-1d_-uxJ",
        "colab_type": "code",
        "colab": {}
      },
      "source": [
        "model.compile(loss = 'categorical_crossentropy',\n",
        "             optimizer = 'adam',\n",
        "             metrics = ['accuracy'])"
      ],
      "execution_count": 0,
      "outputs": []
    },
    {
      "cell_type": "code",
      "metadata": {
        "id": "9A5Z3Exl-pl2",
        "colab_type": "code",
        "outputId": "ccba40ea-e975-4d2e-8f4e-2d9ffaedddec",
        "colab": {
          "base_uri": "https://localhost:8080/",
          "height": 1853
        }
      },
      "source": [
        "model.fit(x_train, y_train, epochs = 1000, validation_split = 0.2, \n",
        "          callbacks = [es])"
      ],
      "execution_count": 0,
      "outputs": [
        {
          "output_type": "stream",
          "text": [
            "Train on 48000 samples, validate on 12000 samples\n",
            "Epoch 1/1000\n",
            "48000/48000 [==============================] - 13s 269us/step - loss: 1.2790 - acc: 0.6446 - val_loss: 0.9221 - val_acc: 0.7112\n",
            "Epoch 2/1000\n",
            "48000/48000 [==============================] - 12s 253us/step - loss: 0.8471 - acc: 0.7060 - val_loss: 0.7784 - val_acc: 0.7222\n",
            "Epoch 3/1000\n",
            "48000/48000 [==============================] - 12s 253us/step - loss: 0.7662 - acc: 0.7159 - val_loss: 0.7284 - val_acc: 0.7242\n",
            "Epoch 4/1000\n",
            "48000/48000 [==============================] - 12s 259us/step - loss: 0.7316 - acc: 0.7205 - val_loss: 0.6985 - val_acc: 0.7290\n",
            "Epoch 5/1000\n",
            "48000/48000 [==============================] - 12s 257us/step - loss: 0.7234 - acc: 0.7209 - val_loss: 0.7069 - val_acc: 0.7163\n",
            "Epoch 6/1000\n",
            "48000/48000 [==============================] - 12s 249us/step - loss: 0.7192 - acc: 0.7154 - val_loss: 0.7151 - val_acc: 0.7148\n",
            "Epoch 7/1000\n",
            "48000/48000 [==============================] - 12s 247us/step - loss: 0.7001 - acc: 0.7282 - val_loss: 0.6885 - val_acc: 0.7283\n",
            "Epoch 8/1000\n",
            "48000/48000 [==============================] - 12s 247us/step - loss: 0.6976 - acc: 0.7315 - val_loss: 0.7238 - val_acc: 0.7428\n",
            "Epoch 9/1000\n",
            "48000/48000 [==============================] - 12s 249us/step - loss: 0.7049 - acc: 0.7311 - val_loss: 0.6994 - val_acc: 0.7383\n",
            "Epoch 10/1000\n",
            "48000/48000 [==============================] - 12s 247us/step - loss: 0.6972 - acc: 0.7304 - val_loss: 0.7165 - val_acc: 0.7233\n",
            "Epoch 11/1000\n",
            "48000/48000 [==============================] - 12s 251us/step - loss: 0.7024 - acc: 0.7261 - val_loss: 0.7033 - val_acc: 0.7192\n",
            "Epoch 12/1000\n",
            "48000/48000 [==============================] - 12s 255us/step - loss: 0.6786 - acc: 0.7365 - val_loss: 0.6651 - val_acc: 0.7457\n",
            "Epoch 13/1000\n",
            "48000/48000 [==============================] - 12s 257us/step - loss: 0.6653 - acc: 0.7428 - val_loss: 0.6471 - val_acc: 0.7533\n",
            "Epoch 14/1000\n",
            "48000/48000 [==============================] - 12s 256us/step - loss: 0.6655 - acc: 0.7420 - val_loss: 0.6604 - val_acc: 0.7355\n",
            "Epoch 15/1000\n",
            "48000/48000 [==============================] - 12s 254us/step - loss: 0.6658 - acc: 0.7347 - val_loss: 0.6514 - val_acc: 0.7536\n",
            "Epoch 16/1000\n",
            "48000/48000 [==============================] - 12s 253us/step - loss: 0.6652 - acc: 0.7398 - val_loss: 0.6656 - val_acc: 0.7301\n",
            "Epoch 17/1000\n",
            "48000/48000 [==============================] - 12s 253us/step - loss: 0.6572 - acc: 0.7407 - val_loss: 0.6683 - val_acc: 0.7228\n",
            "Epoch 18/1000\n",
            "48000/48000 [==============================] - 12s 251us/step - loss: 0.6498 - acc: 0.7358 - val_loss: 0.6371 - val_acc: 0.7505\n",
            "Epoch 19/1000\n",
            "48000/48000 [==============================] - 12s 251us/step - loss: 0.6394 - acc: 0.7535 - val_loss: 0.6353 - val_acc: 0.7625\n",
            "Epoch 20/1000\n",
            "48000/48000 [==============================] - 12s 250us/step - loss: 0.6360 - acc: 0.7506 - val_loss: 0.6425 - val_acc: 0.7487\n",
            "Epoch 21/1000\n",
            "48000/48000 [==============================] - 12s 253us/step - loss: 0.6370 - acc: 0.7563 - val_loss: 0.6386 - val_acc: 0.7546\n",
            "Epoch 22/1000\n",
            "48000/48000 [==============================] - 12s 249us/step - loss: 0.6403 - acc: 0.7530 - val_loss: 0.6512 - val_acc: 0.7583\n",
            "Epoch 23/1000\n",
            "48000/48000 [==============================] - 12s 249us/step - loss: 0.6569 - acc: 0.7398 - val_loss: 0.6371 - val_acc: 0.7535\n",
            "Epoch 24/1000\n",
            "48000/48000 [==============================] - 12s 253us/step - loss: 0.6429 - acc: 0.7482 - val_loss: 0.6517 - val_acc: 0.7268\n",
            "Epoch 25/1000\n",
            "48000/48000 [==============================] - 12s 252us/step - loss: 0.6422 - acc: 0.7384 - val_loss: 0.6529 - val_acc: 0.7384\n",
            "Epoch 26/1000\n",
            "48000/48000 [==============================] - 12s 251us/step - loss: 0.6432 - acc: 0.7480 - val_loss: 0.6344 - val_acc: 0.7518\n",
            "Epoch 27/1000\n",
            "48000/48000 [==============================] - 12s 252us/step - loss: 0.6537 - acc: 0.7394 - val_loss: 0.6478 - val_acc: 0.7393\n",
            "Epoch 28/1000\n",
            "48000/48000 [==============================] - 12s 252us/step - loss: 0.6524 - acc: 0.7445 - val_loss: 0.6397 - val_acc: 0.7558\n",
            "Epoch 29/1000\n",
            "48000/48000 [==============================] - 12s 254us/step - loss: 0.6502 - acc: 0.7439 - val_loss: 0.6575 - val_acc: 0.7298\n",
            "Epoch 30/1000\n",
            "48000/48000 [==============================] - 12s 258us/step - loss: 0.6447 - acc: 0.7464 - val_loss: 0.6430 - val_acc: 0.7492\n",
            "Epoch 31/1000\n",
            "48000/48000 [==============================] - 12s 260us/step - loss: 0.6397 - acc: 0.7522 - val_loss: 0.6354 - val_acc: 0.7505\n",
            "Epoch 32/1000\n",
            "48000/48000 [==============================] - 12s 256us/step - loss: 0.6287 - acc: 0.7574 - val_loss: 0.6137 - val_acc: 0.7639\n",
            "Epoch 33/1000\n",
            "48000/48000 [==============================] - 12s 257us/step - loss: 0.6233 - acc: 0.7593 - val_loss: 0.6151 - val_acc: 0.7784\n",
            "Epoch 34/1000\n",
            "48000/48000 [==============================] - 12s 259us/step - loss: 0.6270 - acc: 0.7567 - val_loss: 0.6629 - val_acc: 0.7462\n",
            "Epoch 35/1000\n",
            "48000/48000 [==============================] - 12s 256us/step - loss: 0.6356 - acc: 0.7512 - val_loss: 0.6551 - val_acc: 0.7439\n",
            "Epoch 36/1000\n",
            "48000/48000 [==============================] - 12s 256us/step - loss: 0.6344 - acc: 0.7534 - val_loss: 0.6357 - val_acc: 0.7652\n",
            "Epoch 37/1000\n",
            "48000/48000 [==============================] - 12s 257us/step - loss: 0.6160 - acc: 0.7625 - val_loss: 0.6217 - val_acc: 0.7586\n",
            "Epoch 38/1000\n",
            "48000/48000 [==============================] - 12s 255us/step - loss: 0.6108 - acc: 0.7684 - val_loss: 0.6038 - val_acc: 0.7801\n",
            "Epoch 39/1000\n",
            "48000/48000 [==============================] - 12s 250us/step - loss: 0.6052 - acc: 0.7752 - val_loss: 0.6105 - val_acc: 0.7758\n",
            "Epoch 40/1000\n",
            "48000/48000 [==============================] - 12s 248us/step - loss: 0.6180 - acc: 0.7691 - val_loss: 0.6323 - val_acc: 0.7688\n",
            "Epoch 41/1000\n",
            "48000/48000 [==============================] - 12s 250us/step - loss: 0.6155 - acc: 0.7688 - val_loss: 0.6259 - val_acc: 0.7731\n",
            "Epoch 42/1000\n",
            "48000/48000 [==============================] - 12s 249us/step - loss: 0.6134 - acc: 0.7714 - val_loss: 0.6195 - val_acc: 0.7704\n",
            "Epoch 43/1000\n",
            "48000/48000 [==============================] - 12s 249us/step - loss: 0.6100 - acc: 0.7692 - val_loss: 0.5965 - val_acc: 0.7745\n",
            "Epoch 44/1000\n",
            "48000/48000 [==============================] - 12s 247us/step - loss: 0.6074 - acc: 0.7749 - val_loss: 0.6195 - val_acc: 0.7667\n",
            "Epoch 45/1000\n",
            "48000/48000 [==============================] - 12s 248us/step - loss: 0.6091 - acc: 0.7665 - val_loss: 0.6015 - val_acc: 0.7758\n",
            "Epoch 46/1000\n",
            "48000/48000 [==============================] - 12s 249us/step - loss: 0.6135 - acc: 0.7654 - val_loss: 0.5982 - val_acc: 0.7780\n",
            "Epoch 47/1000\n",
            "48000/48000 [==============================] - 12s 249us/step - loss: 0.5924 - acc: 0.7769 - val_loss: 0.6106 - val_acc: 0.7787\n",
            "Epoch 48/1000\n",
            "48000/48000 [==============================] - 12s 253us/step - loss: 0.5999 - acc: 0.7803 - val_loss: 0.6030 - val_acc: 0.7835\n",
            "Epoch 49/1000\n",
            "48000/48000 [==============================] - 13s 260us/step - loss: 0.6215 - acc: 0.7649 - val_loss: 0.6174 - val_acc: 0.7692\n",
            "Epoch 50/1000\n",
            "48000/48000 [==============================] - 13s 263us/step - loss: 0.6246 - acc: 0.7659 - val_loss: 0.6223 - val_acc: 0.7642\n",
            "Epoch 51/1000\n",
            "48000/48000 [==============================] - 13s 264us/step - loss: 0.6163 - acc: 0.7701 - val_loss: 0.6359 - val_acc: 0.7730\n",
            "Epoch 52/1000\n",
            "48000/48000 [==============================] - 12s 259us/step - loss: 0.6121 - acc: 0.7719 - val_loss: 0.6199 - val_acc: 0.7671\n",
            "Epoch 53/1000\n",
            "48000/48000 [==============================] - 12s 260us/step - loss: 0.6232 - acc: 0.7623 - val_loss: 0.6536 - val_acc: 0.7367\n"
          ],
          "name": "stdout"
        },
        {
          "output_type": "execute_result",
          "data": {
            "text/plain": [
              "<keras.callbacks.History at 0x7f2d7ee87748>"
            ]
          },
          "metadata": {
            "tags": []
          },
          "execution_count": 51
        }
      ]
    },
    {
      "cell_type": "code",
      "metadata": {
        "id": "e-M43p8FdOuq",
        "colab_type": "code",
        "colab": {}
      },
      "source": [
        ""
      ],
      "execution_count": 0,
      "outputs": []
    }
  ]
}
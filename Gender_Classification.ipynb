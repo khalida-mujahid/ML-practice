{
  "nbformat": 4,
  "nbformat_minor": 0,
  "metadata": {
    "colab": {
      "name": "Gender_Classification.ipynb",
      "version": "0.3.2",
      "provenance": [],
      "include_colab_link": true
    },
    "kernelspec": {
      "name": "python3",
      "display_name": "Python 3"
    },
    "accelerator": "GPU"
  },
  "cells": [
    {
      "cell_type": "markdown",
      "metadata": {
        "id": "view-in-github",
        "colab_type": "text"
      },
      "source": [
        "<a href=\"https://colab.research.google.com/github/khalida-mujahid/ML-practice/blob/master/Gender_Classification.ipynb\" target=\"_parent\"><img src=\"https://colab.research.google.com/assets/colab-badge.svg\" alt=\"Open In Colab\"/></a>"
      ]
    },
    {
      "cell_type": "code",
      "metadata": {
        "id": "AlcFn1Qwr0dU",
        "colab_type": "code",
        "outputId": "a2686a69-c082-4255-defd-6f7ac20037e8",
        "colab": {
          "base_uri": "https://localhost:8080/",
          "height": 35
        }
      },
      "source": [
        "!pwd"
      ],
      "execution_count": 0,
      "outputs": [
        {
          "output_type": "stream",
          "text": [
            "/content\n"
          ],
          "name": "stdout"
        }
      ]
    },
    {
      "cell_type": "code",
      "metadata": {
        "id": "SCKrVLiysDhQ",
        "colab_type": "code",
        "outputId": "cdcfc51a-a406-45c7-a57b-cd2835448bc8",
        "colab": {
          "base_uri": "https://localhost:8080/",
          "height": 204
        }
      },
      "source": [
        "!wget https://data.vision.ee.ethz.ch/cvl/rrothe/imdb-wiki/static/wiki_crop.tar -O data.tar"
      ],
      "execution_count": 0,
      "outputs": [
        {
          "output_type": "stream",
          "text": [
            "--2019-03-16 13:12:44--  https://data.vision.ee.ethz.ch/cvl/rrothe/imdb-wiki/static/wiki_crop.tar\n",
            "Resolving data.vision.ee.ethz.ch (data.vision.ee.ethz.ch)... 129.132.52.162\n",
            "Connecting to data.vision.ee.ethz.ch (data.vision.ee.ethz.ch)|129.132.52.162|:443... connected.\n",
            "HTTP request sent, awaiting response... 200 OK\n",
            "Length: 811315200 (774M) [application/x-tar]\n",
            "Saving to: ‘data.tar’\n",
            "\n",
            "data.tar            100%[===================>] 773.73M  2.96MB/s    in 4m 2s   \n",
            "\n",
            "2019-03-16 13:16:46 (3.20 MB/s) - ‘data.tar’ saved [811315200/811315200]\n",
            "\n"
          ],
          "name": "stdout"
        }
      ]
    },
    {
      "cell_type": "code",
      "metadata": {
        "id": "GsQykXRCsMK6",
        "colab_type": "code",
        "colab": {}
      },
      "source": [
        "import tarfile\n",
        "\n",
        "f = tarfile.TarFile('/content/data.tar')\n",
        "f.extractall('Data')"
      ],
      "execution_count": 0,
      "outputs": []
    },
    {
      "cell_type": "code",
      "metadata": {
        "id": "tIyJJTkiuY8U",
        "colab_type": "code",
        "outputId": "bfe7bf72-c3ac-45fd-d600-ec9cc2f6f859",
        "colab": {
          "base_uri": "https://localhost:8080/",
          "height": 119
        }
      },
      "source": [
        "!ls Data/wiki_crop/"
      ],
      "execution_count": 0,
      "outputs": [
        {
          "output_type": "stream",
          "text": [
            "00  06\t12  18\t24  30\t36  42\t48  54\t60  66\t72  78\t84  90\t96\n",
            "01  07\t13  19\t25  31\t37  43\t49  55\t61  67\t73  79\t85  91\t97\n",
            "02  08\t14  20\t26  32\t38  44\t50  56\t62  68\t74  80\t86  92\t98\n",
            "03  09\t15  21\t27  33\t39  45\t51  57\t63  69\t75  81\t87  93\t99\n",
            "04  10\t16  22\t28  34\t40  46\t52  58\t64  70\t76  82\t88  94\twiki.mat\n",
            "05  11\t17  23\t29  35\t41  47\t53  59\t65  71\t77  83\t89  95\n"
          ],
          "name": "stdout"
        }
      ]
    },
    {
      "cell_type": "code",
      "metadata": {
        "id": "kdjqUGNX0zZq",
        "colab_type": "code",
        "colab": {}
      },
      "source": [
        "from scipy.io import loadmat"
      ],
      "execution_count": 0,
      "outputs": []
    },
    {
      "cell_type": "code",
      "metadata": {
        "id": "XbOe0oqh1jn8",
        "colab_type": "code",
        "colab": {}
      },
      "source": [
        "Data = loadmat('/content/Data/wiki_crop/wiki.mat')\n",
        "paths = Data['wiki']['full_path'][0][0][0][:]\n",
        "labels = Data['wiki']['gender'][0][0][0][:]"
      ],
      "execution_count": 0,
      "outputs": []
    },
    {
      "cell_type": "code",
      "metadata": {
        "id": "-k8q3vzY1sAJ",
        "colab_type": "code",
        "outputId": "eb277c31-dc0c-4d97-a91c-7468f4b8b062",
        "colab": {
          "base_uri": "https://localhost:8080/",
          "height": 204
        }
      },
      "source": [
        "import pandas as pd\n",
        "\n",
        "Data = pd.DataFrame({\"Paths\": paths, \"Labels\": labels})\n",
        "Data['Paths'] = Data.Paths.map(lambda x: x[0])\n",
        "Data.head()"
      ],
      "execution_count": 0,
      "outputs": [
        {
          "output_type": "execute_result",
          "data": {
            "text/html": [
              "<div>\n",
              "<style scoped>\n",
              "    .dataframe tbody tr th:only-of-type {\n",
              "        vertical-align: middle;\n",
              "    }\n",
              "\n",
              "    .dataframe tbody tr th {\n",
              "        vertical-align: top;\n",
              "    }\n",
              "\n",
              "    .dataframe thead th {\n",
              "        text-align: right;\n",
              "    }\n",
              "</style>\n",
              "<table border=\"1\" class=\"dataframe\">\n",
              "  <thead>\n",
              "    <tr style=\"text-align: right;\">\n",
              "      <th></th>\n",
              "      <th>Labels</th>\n",
              "      <th>Paths</th>\n",
              "    </tr>\n",
              "  </thead>\n",
              "  <tbody>\n",
              "    <tr>\n",
              "      <th>0</th>\n",
              "      <td>1.0</td>\n",
              "      <td>17/10000217_1981-05-05_2009.jpg</td>\n",
              "    </tr>\n",
              "    <tr>\n",
              "      <th>1</th>\n",
              "      <td>1.0</td>\n",
              "      <td>48/10000548_1925-04-04_1964.jpg</td>\n",
              "    </tr>\n",
              "    <tr>\n",
              "      <th>2</th>\n",
              "      <td>1.0</td>\n",
              "      <td>12/100012_1948-07-03_2008.jpg</td>\n",
              "    </tr>\n",
              "    <tr>\n",
              "      <th>3</th>\n",
              "      <td>1.0</td>\n",
              "      <td>65/10001965_1930-05-23_1961.jpg</td>\n",
              "    </tr>\n",
              "    <tr>\n",
              "      <th>4</th>\n",
              "      <td>0.0</td>\n",
              "      <td>16/10002116_1971-05-31_2012.jpg</td>\n",
              "    </tr>\n",
              "  </tbody>\n",
              "</table>\n",
              "</div>"
            ],
            "text/plain": [
              "   Labels                            Paths\n",
              "0     1.0  17/10000217_1981-05-05_2009.jpg\n",
              "1     1.0  48/10000548_1925-04-04_1964.jpg\n",
              "2     1.0    12/100012_1948-07-03_2008.jpg\n",
              "3     1.0  65/10001965_1930-05-23_1961.jpg\n",
              "4     0.0  16/10002116_1971-05-31_2012.jpg"
            ]
          },
          "metadata": {
            "tags": []
          },
          "execution_count": 52
        }
      ]
    },
    {
      "cell_type": "code",
      "metadata": {
        "id": "7y43Swtz3D1Y",
        "colab_type": "code",
        "outputId": "a66a9780-1185-428f-c321-46d4a97a00c9",
        "colab": {
          "base_uri": "https://localhost:8080/",
          "height": 395
        }
      },
      "source": [
        "import seaborn as sns\n",
        "import matplotlib.pyplot as plt\n",
        "\n",
        "sns.countplot(Data['Labels'])\n",
        "plt.show()"
      ],
      "execution_count": 0,
      "outputs": [
        {
          "output_type": "stream",
          "text": [
            "/usr/local/lib/python3.6/dist-packages/seaborn/categorical.py:1428: FutureWarning: remove_na is deprecated and is a private function. Do not use.\n",
            "  stat_data = remove_na(group_data)\n"
          ],
          "name": "stderr"
        },
        {
          "output_type": "display_data",
          "data": {
            "image/png": "[encoded data removed]",
            "text/plain": [
              "<Figure size 576x396 with 1 Axes>"
            ]
          },
          "metadata": {
            "tags": []
          }
        }
      ]
    },
    {
      "cell_type": "code",
      "metadata": {
        "id": "DPZTE3ln4nsB",
        "colab_type": "code",
        "outputId": "8eb10ab6-dc61-4a33-ac6c-dd71bccef8c1",
        "colab": {
          "base_uri": "https://localhost:8080/",
          "height": 363
        }
      },
      "source": [
        "import cv2\n",
        "\n",
        "img = cv2.imread(\"/content/Data/wiki_crop/\" + Data['Paths'][0], -1)\n",
        "img = cv2.cvtColor(img, cv2.COLOR_BGR2RGB)\n",
        "plt.imshow(img)\n",
        "plt.title(str(Data['Labels'][0]) + \"and with shape \" + str(img.shape))\n",
        "plt.axis('off')\n",
        "plt.show()"
      ],
      "execution_count": 0,
      "outputs": [
        {
          "output_type": "display_data",
          "data": {
            "image/png": "[encoded data removed]",
            "text/plain": [
              "<Figure size 576x396 with 1 Axes>"
            ]
          },
          "metadata": {
            "tags": []
          }
        }
      ]
    },
    {
      "cell_type": "code",
      "metadata": {
        "id": "LnXnyAyL4ZC7",
        "colab_type": "code",
        "colab": {}
      },
      "source": [
        "from keras.models import Model\n",
        "from keras.layers import Conv2D, MaxPooling2D, Dense, Flatten, Input, Average, GlobalMaxPooling2D, Concatenate"
      ],
      "execution_count": 0,
      "outputs": []
    },
    {
      "cell_type": "code",
      "metadata": {
        "id": "FYMw8Fwk5-gP",
        "colab_type": "code",
        "colab": {}
      },
      "source": [
        "inp = Input(shape = (300, 300, 3))\n",
        "\n",
        "# x1 = Conv2D(32, (5,5), activation = 'relu')(inp)\n",
        "# x1 = Conv2D(32, (3,3), strides = 2, activation = 'relu')(x1)\n",
        "# x1 = Conv2D(64, (3,3), strides = 3, activation = 'relu')(x1)\n",
        "# x1 = Conv2D(128, (2,2), strides = 2, activation = 'relu')(x1)\n",
        "x1 = Conv2D(128, (2,2), strides = 5, activation = 'relu')(inp)\n",
        "x1 = Conv2D(512, (2,2), strides = 2, activation = 'relu')(x1)\n",
        "# 25x25x128 = 80000 \n",
        "# x2 = Conv2D(64, (7,7), activation ='relu')(inp)\n",
        "# x2 = MaxPooling2D((2,2))(x2)\n",
        "\n",
        "# x2 = Conv2D(128, (1,1), activation ='relu')(x2)\n",
        "# x2 = MaxPooling2D((2,2))(x2)\n",
        "\n",
        "# x2 = Conv2D(256, (1,1), activation ='relu')(x2)\n",
        "# x2 = MaxPooling2D((2,2))(x2)\n",
        "# x2 = MaxPooling2D((2,2))(x2)\n",
        "# x2 = MaxPooling2D((2,2))(x2)\n",
        "# 37.5x37.5x256 = 360000\n",
        "fc1 = GlobalMaxPooling2D()(x1)\n",
        "# fc2 = Flatten()(x2)\n",
        "\n",
        "# fc1 = Dense(1024, activation = 'tanh')(fc1)\n",
        "# fc2 = Dense(1024, activation = 'tanh')(fc2)\n",
        "\n",
        "# fc = Average()([fc1, fc2])\n",
        "# fc = Dense(512, activation ='tanh')(fc2)\n",
        "opt = Dense(1, activation = 'sigmoid')(fc1) # For binary crossentropy\n",
        "\n",
        "\n",
        "# fc = Dense(2, acitvation = 'softmax') # For Catergorical Crossentropy"
      ],
      "execution_count": 0,
      "outputs": []
    },
    {
      "cell_type": "code",
      "metadata": {
        "id": "Y3RogbMI9uAz",
        "colab_type": "code",
        "colab": {}
      },
      "source": [
        "model = Model(inp, opt)"
      ],
      "execution_count": 0,
      "outputs": []
    },
    {
      "cell_type": "code",
      "metadata": {
        "id": "9AnAuUui95Tv",
        "colab_type": "code",
        "colab": {}
      },
      "source": [
        "model.compile(loss = 'binary_crossentropy',\n",
        "             optimizer =  'adam',\n",
        "             metrics = ['accuracy'])"
      ],
      "execution_count": 0,
      "outputs": []
    },
    {
      "cell_type": "code",
      "metadata": {
        "id": "svPrj-aC_3Y8",
        "colab_type": "code",
        "outputId": "070d208d-64e3-4abe-819c-8ad7f576ddc4",
        "colab": {
          "base_uri": "https://localhost:8080/",
          "height": 312
        }
      },
      "source": [
        "model.summary()"
      ],
      "execution_count": 0,
      "outputs": [
        {
          "output_type": "stream",
          "text": [
            "_________________________________________________________________\n",
            "Layer (type)                 Output Shape              Param #   \n",
            "=================================================================\n",
            "input_1 (InputLayer)         (None, 300, 300, 3)       0         \n",
            "_________________________________________________________________\n",
            "conv2d_1 (Conv2D)            (None, 60, 60, 128)       1664      \n",
            "_________________________________________________________________\n",
            "conv2d_2 (Conv2D)            (None, 30, 30, 512)       262656    \n",
            "_________________________________________________________________\n",
            "global_max_pooling2d_1 (Glob (None, 512)               0         \n",
            "_________________________________________________________________\n",
            "dense_1 (Dense)              (None, 1)                 513       \n",
            "=================================================================\n",
            "Total params: 264,833\n",
            "Trainable params: 264,833\n",
            "Non-trainable params: 0\n",
            "_________________________________________________________________\n"
          ],
          "name": "stdout"
        }
      ]
    },
    {
      "cell_type": "code",
      "metadata": {
        "id": "HIuDxtpg_8QU",
        "colab_type": "code",
        "colab": {}
      },
      "source": [
        "# Data.Paths = Data.Paths.map(lambda x: x[0])\n",
        "\n",
        "paths_male = Data.Paths[Data.Labels == 1.0][:5000]\n",
        "paths_female = Data.Paths[Data.Labels == 0.0][:5000]\n",
        "\n",
        "\n",
        "labels_male = Data.Labels[Data.Labels == 1.0][:5000]\n",
        "labels_female = Data.Labels[Data.Labels == 0.0][:5000]"
      ],
      "execution_count": 0,
      "outputs": []
    },
    {
      "cell_type": "code",
      "metadata": {
        "id": "k4PTrvItEkKa",
        "colab_type": "code",
        "outputId": "c6e446a4-279e-4552-8084-f1dec2a7adde",
        "colab": {
          "base_uri": "https://localhost:8080/",
          "height": 87
        }
      },
      "source": [
        "print(len(paths_male))\n",
        "print(len(paths_female))\n",
        "\n",
        "print(len(labels_male))\n",
        "print(len(labels_female))"
      ],
      "execution_count": 0,
      "outputs": [
        {
          "output_type": "stream",
          "text": [
            "5000\n",
            "5000\n",
            "5000\n",
            "5000\n"
          ],
          "name": "stdout"
        }
      ]
    },
    {
      "cell_type": "code",
      "metadata": {
        "id": "Z0cZ2JpdD2VP",
        "colab_type": "code",
        "colab": {}
      },
      "source": [
        "paths = list(paths_male.values.astype(str)) + list(paths_female.values.astype(str))\n",
        "labels = list(labels_male.values) + list(labels_female.values)"
      ],
      "execution_count": 0,
      "outputs": []
    },
    {
      "cell_type": "code",
      "metadata": {
        "id": "gBHaUIArEPI6",
        "colab_type": "code",
        "outputId": "5104c54e-a113-44b4-d459-5dcbbe78276c",
        "colab": {
          "base_uri": "https://localhost:8080/",
          "height": 52
        }
      },
      "source": [
        "print(len(labels))\n",
        "print(len(paths))"
      ],
      "execution_count": 0,
      "outputs": [
        {
          "output_type": "stream",
          "text": [
            "10000\n",
            "10000\n"
          ],
          "name": "stdout"
        }
      ]
    },
    {
      "cell_type": "code",
      "metadata": {
        "id": "b7NnLjDKCGOg",
        "colab_type": "code",
        "colab": {}
      },
      "source": [
        "from sklearn.model_selection import train_test_split"
      ],
      "execution_count": 0,
      "outputs": []
    },
    {
      "cell_type": "code",
      "metadata": {
        "id": "SMUL_jnWC8oi",
        "colab_type": "code",
        "colab": {}
      },
      "source": [
        "paths_train, paths_test, labels_train, labels_test = train_test_split(paths, labels, test_size = 0.2, shuffle = True)"
      ],
      "execution_count": 0,
      "outputs": []
    },
    {
      "cell_type": "code",
      "metadata": {
        "id": "iy2P_0JxDZ6i",
        "colab_type": "code",
        "outputId": "af090c4f-50b9-4600-9c4a-abab062bebf4",
        "colab": {
          "base_uri": "https://localhost:8080/",
          "height": 87
        }
      },
      "source": [
        "print(len(paths_train))\n",
        "print(len(paths_test))\n",
        "\n",
        "print(len(labels_train))\n",
        "print(len(labels_test))"
      ],
      "execution_count": 0,
      "outputs": [
        {
          "output_type": "stream",
          "text": [
            "8000\n",
            "2000\n",
            "8000\n",
            "2000\n"
          ],
          "name": "stdout"
        }
      ]
    },
    {
      "cell_type": "code",
      "metadata": {
        "id": "4ylUGEr3rAST",
        "colab_type": "code",
        "colab": {}
      },
      "source": [
        "df_train = pd.DataFrame({'Paths': paths_train, 'Labels': pd.Series(labels_train).map(lambda x: 'male' if x == 1.0 else 'female')})\n",
        "df_test = pd.DataFrame({'Paths': paths_test, 'Labels': pd.Series(labels_test).map(lambda x: 'male' if x == 1.0 else 'female')})"
      ],
      "execution_count": 0,
      "outputs": []
    },
    {
      "cell_type": "code",
      "metadata": {
        "id": "LpD-bR_UydLy",
        "colab_type": "code",
        "outputId": "e7a54b77-ac93-4af5-8432-177da5cd4c98",
        "colab": {
          "base_uri": "https://localhost:8080/",
          "height": 202
        }
      },
      "source": [
        "df_train.head()"
      ],
      "execution_count": 0,
      "outputs": [
        {
          "output_type": "execute_result",
          "data": {
            "text/html": [
              "<div>\n",
              "<style scoped>\n",
              "    .dataframe tbody tr th:only-of-type {\n",
              "        vertical-align: middle;\n",
              "    }\n",
              "\n",
              "    .dataframe tbody tr th {\n",
              "        vertical-align: top;\n",
              "    }\n",
              "\n",
              "    .dataframe thead th {\n",
              "        text-align: right;\n",
              "    }\n",
              "</style>\n",
              "<table border=\"1\" class=\"dataframe\">\n",
              "  <thead>\n",
              "    <tr style=\"text-align: right;\">\n",
              "      <th></th>\n",
              "      <th>Labels</th>\n",
              "      <th>Paths</th>\n",
              "    </tr>\n",
              "  </thead>\n",
              "  <tbody>\n",
              "    <tr>\n",
              "      <th>0</th>\n",
              "      <td>female</td>\n",
              "      <td>03/35108403_1996-01-02_2010.jpg</td>\n",
              "    </tr>\n",
              "    <tr>\n",
              "      <th>1</th>\n",
              "      <td>female</td>\n",
              "      <td>83/39294383_1981-06-14_2012.jpg</td>\n",
              "    </tr>\n",
              "    <tr>\n",
              "      <th>2</th>\n",
              "      <td>male</td>\n",
              "      <td>45/201245_1962-03-23_2011.jpg</td>\n",
              "    </tr>\n",
              "    <tr>\n",
              "      <th>3</th>\n",
              "      <td>female</td>\n",
              "      <td>25/24331825_1934-05-29_2009.jpg</td>\n",
              "    </tr>\n",
              "    <tr>\n",
              "      <th>4</th>\n",
              "      <td>female</td>\n",
              "      <td>06/3521306_1990-09-25_2014.jpg</td>\n",
              "    </tr>\n",
              "  </tbody>\n",
              "</table>\n",
              "</div>"
            ],
            "text/plain": [
              "   Labels                            Paths\n",
              "0  female  03/35108403_1996-01-02_2010.jpg\n",
              "1  female  83/39294383_1981-06-14_2012.jpg\n",
              "2    male    45/201245_1962-03-23_2011.jpg\n",
              "3  female  25/24331825_1934-05-29_2009.jpg\n",
              "4  female   06/3521306_1990-09-25_2014.jpg"
            ]
          },
          "metadata": {
            "tags": []
          },
          "execution_count": 64
        }
      ]
    },
    {
      "cell_type": "code",
      "metadata": {
        "id": "nQO8F4bIyeZ4",
        "colab_type": "code",
        "outputId": "49c5070c-b500-4854-b583-189073247561",
        "colab": {
          "base_uri": "https://localhost:8080/",
          "height": 202
        }
      },
      "source": [
        "df_test.head()"
      ],
      "execution_count": 0,
      "outputs": [
        {
          "output_type": "execute_result",
          "data": {
            "text/html": [
              "<div>\n",
              "<style scoped>\n",
              "    .dataframe tbody tr th:only-of-type {\n",
              "        vertical-align: middle;\n",
              "    }\n",
              "\n",
              "    .dataframe tbody tr th {\n",
              "        vertical-align: top;\n",
              "    }\n",
              "\n",
              "    .dataframe thead th {\n",
              "        text-align: right;\n",
              "    }\n",
              "</style>\n",
              "<table border=\"1\" class=\"dataframe\">\n",
              "  <thead>\n",
              "    <tr style=\"text-align: right;\">\n",
              "      <th></th>\n",
              "      <th>Labels</th>\n",
              "      <th>Paths</th>\n",
              "    </tr>\n",
              "  </thead>\n",
              "  <tbody>\n",
              "    <tr>\n",
              "      <th>0</th>\n",
              "      <td>male</td>\n",
              "      <td>77/18062477_1960-08-06_2012.jpg</td>\n",
              "    </tr>\n",
              "    <tr>\n",
              "      <th>1</th>\n",
              "      <td>female</td>\n",
              "      <td>52/25335552_1954-12-17_2010.jpg</td>\n",
              "    </tr>\n",
              "    <tr>\n",
              "      <th>2</th>\n",
              "      <td>female</td>\n",
              "      <td>47/47047147_1940-01-16_1964.jpg</td>\n",
              "    </tr>\n",
              "    <tr>\n",
              "      <th>3</th>\n",
              "      <td>male</td>\n",
              "      <td>85/2012885_1959-07-10_1991.jpg</td>\n",
              "    </tr>\n",
              "    <tr>\n",
              "      <th>4</th>\n",
              "      <td>female</td>\n",
              "      <td>15/11068815_1946-04-10_1967.jpg</td>\n",
              "    </tr>\n",
              "  </tbody>\n",
              "</table>\n",
              "</div>"
            ],
            "text/plain": [
              "   Labels                            Paths\n",
              "0    male  77/18062477_1960-08-06_2012.jpg\n",
              "1  female  52/25335552_1954-12-17_2010.jpg\n",
              "2  female  47/47047147_1940-01-16_1964.jpg\n",
              "3    male   85/2012885_1959-07-10_1991.jpg\n",
              "4  female  15/11068815_1946-04-10_1967.jpg"
            ]
          },
          "metadata": {
            "tags": []
          },
          "execution_count": 65
        }
      ]
    },
    {
      "cell_type": "code",
      "metadata": {
        "id": "Ff-j0I8GBK9r",
        "colab_type": "code",
        "colab": {}
      },
      "source": [
        "import cv2\n",
        "import numpy as np\n",
        "def load_data(paths):\n",
        "  Images = list()\n",
        "  \n",
        "  for path in paths:\n",
        "    try:\n",
        "      full_path = '/content/Data/wiki_crop/' + path\n",
        "      img = cv2.imread(full_path, 1)\n",
        "      img = cv2.resize(img, (300,300))\n",
        "      img = cv2.cvtColor(img, cv2.COLOR_BGR2RGB)\n",
        "      img = img/255\n",
        "    except:\n",
        "      img = np.zeros((300,300,3))\n",
        "    Images.append(img)\n",
        "  return np.asarray(Images, dtype = 'uint8')"
      ],
      "execution_count": 0,
      "outputs": []
    },
    {
      "cell_type": "code",
      "metadata": {
        "id": "ifG6d15Pqzga",
        "colab_type": "code",
        "colab": {}
      },
      "source": [
        "from keras.preprocessing.image import ImageDataGenerator"
      ],
      "execution_count": 0,
      "outputs": []
    },
    {
      "cell_type": "code",
      "metadata": {
        "id": "BezhT900q6a9",
        "colab_type": "code",
        "colab": {}
      },
      "source": [
        "gen = ImageDataGenerator(rescale = 1./255)"
      ],
      "execution_count": 0,
      "outputs": []
    },
    {
      "cell_type": "code",
      "metadata": {
        "id": "lIx_3TT_rUh_",
        "colab_type": "code",
        "outputId": "3bb266f9-9266-4777-fc60-f4028a250496",
        "colab": {
          "base_uri": "https://localhost:8080/",
          "height": 52
        }
      },
      "source": [
        "train_gen = gen.flow_from_dataframe(df_train, directory = '/content/Data/wiki_crop/', x_col = 'Paths',\n",
        "                                   y_col = 'Labels', target_size = (300,300), class_mode = 'binary', batch_size = 32)\n",
        "test_gen = gen.flow_from_dataframe(df_test, directory = '/content/Data/wiki_crop/', x_col = 'Paths',\n",
        "                                   y_col = 'Labels', target_size = (300,300), class_mode = 'binary', batch_size = 32)"
      ],
      "execution_count": 0,
      "outputs": [
        {
          "output_type": "stream",
          "text": [
            "Found 8000 images belonging to 2 classes.\n",
            "Found 2000 images belonging to 2 classes.\n"
          ],
          "name": "stdout"
        }
      ]
    },
    {
      "cell_type": "code",
      "metadata": {
        "id": "2jJzcupZ89bL",
        "colab_type": "code",
        "colab": {}
      },
      "source": [
        "def generator(paths, labels, batch_size):\n",
        "    while 1:\n",
        "      for i in range(0, len(paths), batch_size):\n",
        "        X, y = load_data(paths[i:i + batch_size]), labels[i:i + batch_size]\n",
        "        yield X,np.array(y)\n"
      ],
      "execution_count": 0,
      "outputs": []
    },
    {
      "cell_type": "code",
      "metadata": {
        "id": "pruHRoRXAjbh",
        "colab_type": "code",
        "outputId": "76ddd7f3-d725-4942-c669-9bd671201721",
        "colab": {
          "base_uri": "https://localhost:8080/",
          "height": 52
        }
      },
      "source": [
        "train_generator = generator(paths_train, labels_train, 32)\n",
        "val_generator = generator(paths_test, labels_test, 32)\n",
        "Xt, yt = next(train_generator)\n",
        "\n",
        "print(Xt.shape)\n",
        "print(yt.shape)"
      ],
      "execution_count": 0,
      "outputs": [
        {
          "output_type": "stream",
          "text": [
            "(32, 300, 300, 3)\n",
            "(32,)\n"
          ],
          "name": "stdout"
        }
      ]
    },
    {
      "cell_type": "code",
      "metadata": {
        "id": "y62Tclc1Gaq5",
        "colab_type": "code",
        "colab": {}
      },
      "source": [
        "X_train = load_data(paths_train[:10])"
      ],
      "execution_count": 0,
      "outputs": []
    },
    {
      "cell_type": "code",
      "metadata": {
        "id": "iooBNzKw4MTv",
        "colab_type": "code",
        "colab": {}
      },
      "source": [
        "# train_gen = generator(paths_train, labelr_train)"
      ],
      "execution_count": 0,
      "outputs": []
    },
    {
      "cell_type": "code",
      "metadata": {
        "id": "PcDcr71oGleS",
        "colab_type": "code",
        "outputId": "4255e183-4a9f-47d4-8057-f715089e81f9",
        "colab": {
          "base_uri": "https://localhost:8080/",
          "height": 35
        }
      },
      "source": [
        "X_test = load_data(paths_test[:10])\n",
        "X_test.shape"
      ],
      "execution_count": 0,
      "outputs": [
        {
          "output_type": "execute_result",
          "data": {
            "text/plain": [
              "(10, 300, 300, 3)"
            ]
          },
          "metadata": {
            "tags": []
          },
          "execution_count": 28
        }
      ]
    },
    {
      "cell_type": "code",
      "metadata": {
        "id": "TWxk2gf6Hran",
        "colab_type": "code",
        "colab": {}
      },
      "source": [
        "from tensorboardcolab import *"
      ],
      "execution_count": 0,
      "outputs": []
    },
    {
      "cell_type": "code",
      "metadata": {
        "id": "ccs1trPbHtlS",
        "colab_type": "code",
        "outputId": "74c3e87c-956f-44ef-d8bc-cfb80c064949",
        "colab": {
          "base_uri": "https://localhost:8080/",
          "height": 69
        }
      },
      "source": [
        "# !rm -r Graph\n",
        "tbc = TensorBoardColab(graph_path = './Graph2')"
      ],
      "execution_count": 0,
      "outputs": [
        {
          "output_type": "stream",
          "text": [
            "Wait for 8 seconds...\n",
            "TensorBoard link:\n",
            "http://cfa8eb8c.ngrok.io\n"
          ],
          "name": "stdout"
        }
      ]
    },
    {
      "cell_type": "code",
      "metadata": {
        "id": "DCF4zVkPIFJh",
        "colab_type": "code",
        "colab": {}
      },
      "source": [
        "from keras.callbacks import EarlyStopping\n",
        "\n",
        "es = EarlyStopping(monitor = \"val_loss\", patience = 10)"
      ],
      "execution_count": 0,
      "outputs": []
    },
    {
      "cell_type": "code",
      "metadata": {
        "id": "T28nCTgH85eO",
        "colab_type": "code",
        "outputId": "4c79a8af-bd3c-46c9-d3aa-e58e3bd28687",
        "colab": {
          "base_uri": "https://localhost:8080/",
          "height": 679
        }
      },
      "source": [
        "model.fit_generator(train_generator, steps_per_epoch = 100, epochs = 1000,\n",
        "                   callbacks = [es, TensorBoardColabCallback(tbc)],\n",
        "                   validation_data = val_generator, validation_steps = 10)"
      ],
      "execution_count": 0,
      "outputs": [
        {
          "output_type": "stream",
          "text": [
            "Epoch 1/1000\n",
            "100/100 [==============================] - 15s 145ms/step - loss: 0.6881 - acc: 0.5387 - val_loss: 0.6841 - val_acc: 0.5594\n",
            "Epoch 2/1000\n",
            "100/100 [==============================] - 14s 141ms/step - loss: 0.6865 - acc: 0.5569 - val_loss: 0.6777 - val_acc: 0.5469\n",
            "Epoch 3/1000\n",
            "100/100 [==============================] - 14s 142ms/step - loss: 0.6780 - acc: 0.5625 - val_loss: 0.6864 - val_acc: 0.5437\n",
            "Epoch 4/1000\n",
            "100/100 [==============================] - 14s 137ms/step - loss: 0.6810 - acc: 0.5606 - val_loss: 0.6813 - val_acc: 0.5687\n",
            "Epoch 5/1000\n",
            "100/100 [==============================] - 14s 137ms/step - loss: 0.6729 - acc: 0.5687 - val_loss: 0.6854 - val_acc: 0.5469\n",
            "Epoch 6/1000\n",
            "100/100 [==============================] - 14s 140ms/step - loss: 0.6696 - acc: 0.5769 - val_loss: 0.7136 - val_acc: 0.5156\n",
            "Epoch 7/1000\n",
            "100/100 [==============================] - 14s 138ms/step - loss: 0.6729 - acc: 0.5753 - val_loss: 0.6875 - val_acc: 0.5461\n",
            "Epoch 8/1000\n",
            "100/100 [==============================] - 14s 138ms/step - loss: 0.6639 - acc: 0.5878 - val_loss: 0.6746 - val_acc: 0.5875\n",
            "Epoch 9/1000\n",
            "100/100 [==============================] - 14s 142ms/step - loss: 0.6669 - acc: 0.5781 - val_loss: 0.6816 - val_acc: 0.5437\n",
            "Epoch 10/1000\n",
            "100/100 [==============================] - 14s 140ms/step - loss: 0.6577 - acc: 0.5959 - val_loss: 0.6763 - val_acc: 0.5719\n",
            "Epoch 11/1000\n",
            "100/100 [==============================] - 14s 141ms/step - loss: 0.6498 - acc: 0.5981 - val_loss: 0.7063 - val_acc: 0.5437\n",
            "Epoch 12/1000\n",
            "100/100 [==============================] - 14s 142ms/step - loss: 0.6519 - acc: 0.5988 - val_loss: 0.7040 - val_acc: 0.5125\n",
            "Epoch 13/1000\n",
            "100/100 [==============================] - 14s 142ms/step - loss: 0.6387 - acc: 0.6203 - val_loss: 0.7293 - val_acc: 0.5197\n",
            "Epoch 14/1000\n",
            "100/100 [==============================] - 14s 141ms/step - loss: 0.6347 - acc: 0.6181 - val_loss: 0.6851 - val_acc: 0.5500\n",
            "Epoch 15/1000\n",
            "100/100 [==============================] - 14s 139ms/step - loss: 0.6272 - acc: 0.6287 - val_loss: 0.7016 - val_acc: 0.5781\n",
            "Epoch 16/1000\n",
            "100/100 [==============================] - 14s 140ms/step - loss: 0.6079 - acc: 0.6500 - val_loss: 0.7418 - val_acc: 0.4844\n",
            "Epoch 17/1000\n",
            "100/100 [==============================] - 14s 140ms/step - loss: 0.6083 - acc: 0.6447 - val_loss: 0.6912 - val_acc: 0.5406\n",
            "Epoch 18/1000\n",
            "100/100 [==============================] - 14s 142ms/step - loss: 0.5936 - acc: 0.6659 - val_loss: 0.7461 - val_acc: 0.5500\n"
          ],
          "name": "stdout"
        },
        {
          "output_type": "execute_result",
          "data": {
            "text/plain": [
              "<keras.callbacks.History at 0x7f9075146828>"
            ]
          },
          "metadata": {
            "tags": []
          },
          "execution_count": 78
        }
      ]
    },
    {
      "cell_type": "code",
      "metadata": {
        "id": "Mg5nk-LMHYpS",
        "colab_type": "code",
        "colab": {}
      },
      "source": [
        "model.fit(X_train, labels_train[:1000], batch_size = 1, epochs = 10000,\n",
        "         validation_split = 0.1, callbacks = [es, TensorBoardColabCallback(tbc)])"
      ],
      "execution_count": 0,
      "outputs": []
    },
    {
      "cell_type": "code",
      "metadata": {
        "id": "XvnjZTRQIV1z",
        "colab_type": "code",
        "outputId": "488bb055-da08-4efe-a9bc-713709a2f28f",
        "colab": {
          "base_uri": "https://localhost:8080/",
          "height": 289
        }
      },
      "source": [
        "!nvidia-smi"
      ],
      "execution_count": 0,
      "outputs": [
        {
          "output_type": "stream",
          "text": [
            "Sat Mar  9 15:53:48 2019       \n",
            "+-----------------------------------------------------------------------------+\n",
            "| NVIDIA-SMI 410.79       Driver Version: 410.79       CUDA Version: 10.0     |\n",
            "|-------------------------------+----------------------+----------------------+\n",
            "| GPU  Name        Persistence-M| Bus-Id        Disp.A | Volatile Uncorr. ECC |\n",
            "| Fan  Temp  Perf  Pwr:Usage/Cap|         Memory-Usage | GPU-Util  Compute M. |\n",
            "|===============================+======================+======================|\n",
            "|   0  Tesla K80           Off  | 00000000:00:04.0 Off |                    0 |\n",
            "| N/A   36C    P0    59W / 149W |  10969MiB / 11441MiB |      0%      Default |\n",
            "+-------------------------------+----------------------+----------------------+\n",
            "                                                                               \n",
            "+-----------------------------------------------------------------------------+\n",
            "| Processes:                                                       GPU Memory |\n",
            "|  GPU       PID   Type   Process name                             Usage      |\n",
            "|=============================================================================|\n",
            "+-----------------------------------------------------------------------------+\n"
          ],
          "name": "stdout"
        }
      ]
    },
    {
      "cell_type": "code",
      "metadata": {
        "id": "oC_uUPBHI4xy",
        "colab_type": "code",
        "outputId": "b76ac786-c41e-4a8b-cea5-08d4c299fba6",
        "colab": {
          "base_uri": "https://localhost:8080/",
          "height": 35
        }
      },
      "source": [
        "!ls "
      ],
      "execution_count": 0,
      "outputs": [
        {
          "output_type": "stream",
          "text": [
            "Data  data.tar\tdrive  Graph  sample_data\n"
          ],
          "name": "stdout"
        }
      ]
    },
    {
      "cell_type": "code",
      "metadata": {
        "id": "DY4HGzDptUPA",
        "colab_type": "code",
        "outputId": "27824439-eee2-407d-c2c7-aa8145443d37",
        "colab": {
          "base_uri": "https://localhost:8080/",
          "height": 35
        }
      },
      "source": [
        "print(labels_train[:10])"
      ],
      "execution_count": 0,
      "outputs": [
        {
          "output_type": "stream",
          "text": [
            "[0.0, 0.0, 0.0, 0.0, 1.0, 1.0, 0.0, 0.0, 1.0, 1.0]\n"
          ],
          "name": "stdout"
        }
      ]
    },
    {
      "cell_type": "code",
      "metadata": {
        "id": "SaTF7YdvuET9",
        "colab_type": "code",
        "outputId": "a47205af-746c-4c7e-95f5-f9f2810a3d75",
        "colab": {
          "base_uri": "https://localhost:8080/",
          "height": 52
        }
      },
      "source": [
        "import numpy\n",
        "\n",
        "a = np.random.randint(10, size = 15)\n",
        "print(a.shape)\n",
        "print(a)"
      ],
      "execution_count": 0,
      "outputs": [
        {
          "output_type": "stream",
          "text": [
            "(15,)\n",
            "[4 9 8 3 7 7 5 7 7 7 8 3 3 9 5]\n"
          ],
          "name": "stdout"
        }
      ]
    },
    {
      "cell_type": "code",
      "metadata": {
        "id": "8Z8coqtT9lYa",
        "colab_type": "code",
        "colab": {}
      },
      "source": [
        "inp = Input(shape = (300,300,3))\n",
        "\n",
        "x = Conv2D(16, (7,7), strides = 2, activation = 'relu')(inp)\n",
        "x = Conv2D(32, (5,5), strides = 2, activation = 'relu')(x)\n",
        "\n",
        "x1 = Conv2D(128, (1,1), strides = 2, activation ='relu')(x)\n",
        "x1 = GlobalMaxPooling2D()(x1)\n",
        "\n",
        "x2 = Conv2D(512, (1,1), strides = 2, activation ='relu')(x)\n",
        "x2 = GlobalMaxPooling2D()(x2)\n",
        "\n",
        "x = Concatenate(axis = 1)([x1, x2])\n",
        "x = Dense(256, activation = 'tanh')(x)\n",
        "out = Dense(1, activation = 'sigmoid')(x)"
      ],
      "execution_count": 0,
      "outputs": []
    },
    {
      "cell_type": "code",
      "metadata": {
        "id": "H8EzWf_6464F",
        "colab_type": "code",
        "colab": {}
      },
      "source": [
        "model2 = Model(inp, out)"
      ],
      "execution_count": 0,
      "outputs": []
    },
    {
      "cell_type": "code",
      "metadata": {
        "id": "vdZ7VkKh4-8o",
        "colab_type": "code",
        "colab": {}
      },
      "source": [
        "model2.compile(optimizer = 'adam',\n",
        "              loss = 'binary_crossentropy',\n",
        "              metrics = ['accuracy'])"
      ],
      "execution_count": 0,
      "outputs": []
    },
    {
      "cell_type": "code",
      "metadata": {
        "id": "CJzSfQuJ5Nzc",
        "colab_type": "code",
        "outputId": "0c2a02e1-c42e-4202-8b19-83a62fc288da",
        "colab": {
          "base_uri": "https://localhost:8080/",
          "height": 503
        }
      },
      "source": [
        "model2.summary()"
      ],
      "execution_count": 0,
      "outputs": [
        {
          "output_type": "stream",
          "text": [
            "__________________________________________________________________________________________________\n",
            "Layer (type)                    Output Shape         Param #     Connected to                     \n",
            "==================================================================================================\n",
            "input_7 (InputLayer)            (None, 300, 300, 3)  0                                            \n",
            "__________________________________________________________________________________________________\n",
            "conv2d_16 (Conv2D)              (None, 147, 147, 16) 2368        input_7[0][0]                    \n",
            "__________________________________________________________________________________________________\n",
            "conv2d_17 (Conv2D)              (None, 72, 72, 32)   12832       conv2d_16[0][0]                  \n",
            "__________________________________________________________________________________________________\n",
            "conv2d_18 (Conv2D)              (None, 36, 36, 128)  4224        conv2d_17[0][0]                  \n",
            "__________________________________________________________________________________________________\n",
            "conv2d_19 (Conv2D)              (None, 36, 36, 512)  16896       conv2d_17[0][0]                  \n",
            "__________________________________________________________________________________________________\n",
            "global_max_pooling2d_7 (GlobalM (None, 128)          0           conv2d_18[0][0]                  \n",
            "__________________________________________________________________________________________________\n",
            "global_max_pooling2d_8 (GlobalM (None, 512)          0           conv2d_19[0][0]                  \n",
            "__________________________________________________________________________________________________\n",
            "concatenate_2 (Concatenate)     (None, 640)          0           global_max_pooling2d_7[0][0]     \n",
            "                                                                 global_max_pooling2d_8[0][0]     \n",
            "__________________________________________________________________________________________________\n",
            "dense_5 (Dense)                 (None, 256)          164096      concatenate_2[0][0]              \n",
            "__________________________________________________________________________________________________\n",
            "dense_6 (Dense)                 (None, 1)            257         dense_5[0][0]                    \n",
            "==================================================================================================\n",
            "Total params: 200,673\n",
            "Trainable params: 200,673\n",
            "Non-trainable params: 0\n",
            "__________________________________________________________________________________________________\n"
          ],
          "name": "stdout"
        }
      ]
    },
    {
      "cell_type": "code",
      "metadata": {
        "id": "qF2CWyq66EoA",
        "colab_type": "code",
        "outputId": "0da35ba5-2d13-4d0f-b19c-b500312bd7f0",
        "colab": {
          "base_uri": "https://localhost:8080/",
          "height": 713
        }
      },
      "source": [
        "model2.fit_generator(train_generator, steps_per_epoch = 100, epochs = 1000,\n",
        "                   callbacks = [es, TensorBoardColabCallback(tbc)],\n",
        "                   validation_data = val_generator, validation_steps = 10)"
      ],
      "execution_count": 0,
      "outputs": [
        {
          "output_type": "stream",
          "text": [
            "Epoch 1/1000\n",
            "100/100 [==============================] - 15s 147ms/step - loss: 0.6970 - acc: 0.4991 - val_loss: 0.6891 - val_acc: 0.5493\n",
            "Epoch 2/1000\n",
            "100/100 [==============================] - 14s 140ms/step - loss: 0.6906 - acc: 0.5181 - val_loss: 0.6850 - val_acc: 0.5406\n",
            "Epoch 3/1000\n",
            "100/100 [==============================] - 14s 141ms/step - loss: 0.6851 - acc: 0.5156 - val_loss: 0.6757 - val_acc: 0.5719\n",
            "Epoch 4/1000\n",
            "100/100 [==============================] - 14s 142ms/step - loss: 0.6862 - acc: 0.5291 - val_loss: 0.6876 - val_acc: 0.4500\n",
            "Epoch 5/1000\n",
            "100/100 [==============================] - 14s 140ms/step - loss: 0.6805 - acc: 0.5441 - val_loss: 0.6846 - val_acc: 0.5437\n",
            "Epoch 6/1000\n",
            "100/100 [==============================] - 14s 141ms/step - loss: 0.6815 - acc: 0.5563 - val_loss: 0.6851 - val_acc: 0.5406\n",
            "Epoch 7/1000\n",
            "100/100 [==============================] - 14s 138ms/step - loss: 0.6756 - acc: 0.5569 - val_loss: 0.6900 - val_acc: 0.5461\n",
            "Epoch 8/1000\n",
            "100/100 [==============================] - 14s 144ms/step - loss: 0.6775 - acc: 0.5644 - val_loss: 0.6822 - val_acc: 0.5406\n",
            "Epoch 9/1000\n",
            "100/100 [==============================] - 14s 141ms/step - loss: 0.6759 - acc: 0.5525 - val_loss: 0.6737 - val_acc: 0.5375\n",
            "Epoch 10/1000\n",
            "100/100 [==============================] - 14s 141ms/step - loss: 0.6665 - acc: 0.5797 - val_loss: 0.6914 - val_acc: 0.5469\n",
            "Epoch 11/1000\n",
            "100/100 [==============================] - 14s 142ms/step - loss: 0.6730 - acc: 0.5775 - val_loss: 0.6891 - val_acc: 0.5219\n",
            "Epoch 12/1000\n",
            "100/100 [==============================] - 14s 142ms/step - loss: 0.6637 - acc: 0.5806 - val_loss: 0.7493 - val_acc: 0.5219\n",
            "Epoch 13/1000\n",
            "100/100 [==============================] - 14s 142ms/step - loss: 0.6649 - acc: 0.5875 - val_loss: 0.7116 - val_acc: 0.4875\n",
            "Epoch 14/1000\n",
            "100/100 [==============================] - 14s 140ms/step - loss: 0.6615 - acc: 0.5903 - val_loss: 0.6739 - val_acc: 0.5493\n",
            "Epoch 15/1000\n",
            "100/100 [==============================] - 14s 140ms/step - loss: 0.6512 - acc: 0.6072 - val_loss: 0.6865 - val_acc: 0.5781\n",
            "Epoch 16/1000\n",
            "100/100 [==============================] - 14s 140ms/step - loss: 0.6493 - acc: 0.6031 - val_loss: 0.7101 - val_acc: 0.5625\n",
            "Epoch 17/1000\n",
            "100/100 [==============================] - 14s 142ms/step - loss: 0.6381 - acc: 0.6116 - val_loss: 0.7226 - val_acc: 0.5875\n",
            "Epoch 18/1000\n",
            "100/100 [==============================] - 14s 142ms/step - loss: 0.6249 - acc: 0.6250 - val_loss: 0.7658 - val_acc: 0.5031\n",
            "Epoch 19/1000\n",
            "100/100 [==============================] - 14s 143ms/step - loss: 0.6202 - acc: 0.6312 - val_loss: 0.7532 - val_acc: 0.5719\n"
          ],
          "name": "stdout"
        },
        {
          "output_type": "execute_result",
          "data": {
            "text/plain": [
              "<keras.callbacks.History at 0x7f9074221320>"
            ]
          },
          "metadata": {
            "tags": []
          },
          "execution_count": 90
        }
      ]
    },
    {
      "cell_type": "code",
      "metadata": {
        "id": "Ew0MXhP-92LF",
        "colab_type": "code",
        "outputId": "1edf1832-3c9b-4aa5-ab67-5667181911c1",
        "colab": {
          "base_uri": "https://localhost:8080/",
          "height": 35
        }
      },
      "source": [
        "list(range(len(a)))"
      ],
      "execution_count": 0,
      "outputs": [
        {
          "output_type": "execute_result",
          "data": {
            "text/plain": [
              "[0, 1, 2, 3, 4, 5, 6, 7, 8, 9, 10, 11, 12, 13, 14]"
            ]
          },
          "metadata": {
            "tags": []
          },
          "execution_count": 38
        }
      ]
    },
    {
      "cell_type": "code",
      "metadata": {
        "id": "tbm4lLPy_iCN",
        "colab_type": "code",
        "colab": {}
      },
      "source": [
        "import urllib\n",
        "import numpy as np"
      ],
      "execution_count": 0,
      "outputs": []
    },
    {
      "cell_type": "code",
      "metadata": {
        "id": "3P2JY6LKA26E",
        "colab_type": "code",
        "colab": {}
      },
      "source": [
        "from keras.models import load_model"
      ],
      "execution_count": 0,
      "outputs": []
    },
    {
      "cell_type": "code",
      "metadata": {
        "id": "yIK4Mkxo-lQy",
        "colab_type": "code",
        "colab": {}
      },
      "source": [
        "def predict(url):\n",
        "  downloaded = urllib.request.urlopen(url)\n",
        "  img_array = np.asarray(bytearray(downloaded.read()), dtype = 'uint8')\n",
        "  img = cv2.imdecode(img_array, 1)\n",
        "  img = cv2.resize(img, (300,300))\n",
        "  img = cv2.cvtColor(img, cv2.COLOR_BGR2RGB)\n",
        "  img = img/255\n",
        "  img = np.expand_dims(img, axis = 0)\n",
        "  prediction = model.predict(img)\n",
        "  prob = prediction[0][0]\n",
        "  print(\"male: \", prob, \"female: \", 1-prob)\n",
        "  "
      ],
      "execution_count": 0,
      "outputs": []
    },
    {
      "cell_type": "code",
      "metadata": {
        "id": "uZ9TiL1MAvEW",
        "colab_type": "code",
        "outputId": "749c966e-84d8-4817-9a1d-1db9f6314612",
        "colab": {
          "base_uri": "https://localhost:8080/",
          "height": 35
        }
      },
      "source": [
        "predict('https://static01.nyt.com/images/2018/09/28/nyregion/28gender/00gender-facebookJumbo.jpg')"
      ],
      "execution_count": 0,
      "outputs": [
        {
          "output_type": "stream",
          "text": [
            "male:  0.48343542 female:  0.5165645778179169\n"
          ],
          "name": "stdout"
        }
      ]
    },
    {
      "cell_type": "code",
      "metadata": {
        "id": "62cj1xwTBOt-",
        "colab_type": "code",
        "colab": {}
      },
      "source": [
        ""
      ],
      "execution_count": 0,
      "outputs": []
    }
  ]
}